{
  "nbformat": 4,
  "nbformat_minor": 0,
  "metadata": {
    "colab": {
      "provenance": []
    },
    "kernelspec": {
      "name": "python3",
      "display_name": "Python 3"
    },
    "language_info": {
      "name": "python"
    }
  },
  "cells": [
    {
      "cell_type": "markdown",
      "source": [
        "![image.png](data:image/png;base64,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)"
      ],
      "metadata": {
        "id": "Z8sNOOmg1wzE"
      }
    },
    {
      "cell_type": "markdown",
      "source": [
        "#Assignment 9 (Bonus): Threads and Synchronisation\n",
        "\n",
        "**Note**: This assignment can be completed in a number of ways:\n",
        "* Using this Google Colab notebook (please save your own copy and work on that, instructions below) <- easiest\n",
        "* Using your own Linux machine (any distro)\n",
        "* Using a Linux virtual machine (e.g. the TinyOS VM from Assignments 5-6)\n",
        "* Over an SSH connection to [Aalto shell servers](https://www.aalto.fi/en/services/linux-shell-servers-at-aalto)\n",
        "\n",
        "Please feel free to use the option that works best for you. Please enter the results in the [A+ platform](https://plus.cs.aalto.fi/accounts/login/?next=/os/2022/). For any questions please refer to the [Zulip chat of the OS course](https://operatingsystems.zulip.aalto.fi/).\n",
        "\n",
        "**When compiling the code below, before making any of your edits, for gcc versions less than 9.5.0, you may see compilation warnings which you can safely ignore. It is not safe to ignore any other compilation warnings and compilation errors introduced by code added or edited by you.**"
      ],
      "metadata": {
        "id": "uG823C7Y2dVe"
      }
    },
    {
      "cell_type": "markdown",
      "source": [
        "**Note**: If you are unsure how to use Google Colab for running code/scripts, please refer to `How to use Google Colab` section from Assignment 4 :\n",
        "https://colab.research.google.com/drive/1X1xFIkDCyuQuiwv9RoKnWHh6xuCELzAj?usp=sharing#scrollTo=MvYnYMkSlc05\n",
        "\n"
      ],
      "metadata": {
        "id": "flVFRQGKwzSd"
      }
    },
    {
      "cell_type": "markdown",
      "source": [
        "## Task 1: Multi-threaded C with PThreads"
      ],
      "metadata": {
        "id": "oTsilnyZAHeb"
      }
    },
    {
      "cell_type": "markdown",
      "source": [
        "### PThreads\n",
        "\n",
        "Write a C program that starts a variable number of threads. Each thread should print out the following message\n",
        "```\n",
        "\"Hello World! from thread NR\"\n",
        "```\n",
        "where NR is the identification number of the thread."
      ],
      "metadata": {
        "id": "iEeUyPOzAPUH"
      }
    },
    {
      "cell_type": "markdown",
      "source": [
        "In the template below, replace each `TODO` line with the correct line of code.\n",
        "\n",
        "For writing the pthreads program, you can use the following calls\n",
        "* [pthread_create](https://man7.org/linux/man-pages/man3/pthread_create.3.html)\n",
        "* [pthread_exit](https://man7.org/linux/man-pages/man3/pthread_exit.3.html)"
      ],
      "metadata": {
        "id": "k2HsfjhMAagy"
      }
    },
    {
      "cell_type": "code",
      "source": [
        "%%writefile pthread.c\n",
        "\n",
        "// TODO 0: Include required headers\n",
        "// ...\n",
        " \n",
        "//The maximum number of threads\n",
        "#define NUM_THREADS 5\n",
        "\n",
        "// TODO 1: Define the print function with the correct return type (replace ...)\n",
        "... PrintHello(void *threadid)\n",
        "{\n",
        "  int tid;\n",
        "  tid = (int)threadid;\n",
        "  \n",
        "  printf(\"Hello World! It's me, thread #%d!\\n\", tid);\n",
        "  // TODO 2: exit the thread (replace ...)\n",
        "  // ...\n",
        "}\n",
        "\n",
        "int main (int argc, char *argv[])\n",
        "{\n",
        "  // array of thread handles\n",
        "  pthread_t threads[NUM_THREADS];\n",
        "  // create return code\n",
        "  int rc;\n",
        "  // thread counter\n",
        "  int t;\n",
        "\n",
        "\t// launch the threads and note that the print order \n",
        "\t// between MAIN and the threads is not deterministic\n",
        "  for(t=0; t<NUM_THREADS; t++){\n",
        "      // TODO 3: Create the thread (replace ...)\n",
        "      // rc = ...\n",
        "      if (rc){\n",
        "        printf(\"ERROR; return code is %d\\n\", rc);\n",
        "      } \n",
        "  } \n",
        "  \n",
        "  // TODO 4: Exit the main thread (replace ...)\n",
        "  // ...\n",
        "} "
      ],
      "metadata": {
        "colab": {
          "base_uri": "https://localhost:8080/"
        },
        "id": "C2Fh7I8GAijS",
        "outputId": "04df3bdd-936e-46e3-8656-166d429dcc3c"
      },
      "execution_count": null,
      "outputs": [
        {
          "output_type": "stream",
          "name": "stdout",
          "text": [
            "Overwriting pthread.c\n"
          ]
        }
      ]
    },
    {
      "cell_type": "code",
      "source": [
        "# Compiling the pthread code\n",
        "!gcc -o pthread pthread.c -lpthread"
      ],
      "metadata": {
        "id": "kqOz_tmbAq8X"
      },
      "execution_count": null,
      "outputs": []
    },
    {
      "cell_type": "code",
      "source": [
        "#Running the pthread code\n",
        "!time ./pthread"
      ],
      "metadata": {
        "id": "NJL1UBGFAukZ"
      },
      "execution_count": null,
      "outputs": []
    },
    {
      "cell_type": "markdown",
      "source": [
        "## Task 2: More synchronisation - Mutexes, Semaphores"
      ],
      "metadata": {
        "id": "RPjLNJa6CCHw"
      }
    },
    {
      "cell_type": "markdown",
      "source": [
        "There are $N$ threads (processes) numbered from $0$ to $N-1$. All processes have access to a shared variable called `shared_var`, and the threads update the variable in rounds. An update round consists of the ordered sequence (thread $i$ writes before thread $i+1$) of write operations. For example, for $5$ threads and $2$ rounds, in round $1$ thread $3$ is writing the value $2$ to `shared_var`, and in round $1$ it is writing the value of $7$.\n",
        "\n",
        "Implement with C++ the above procedure for a configurable number of threads and rounds by using `pthreads` and the following methods:\n",
        "* mutexes and condition variables using the family of methods containing[pthread_mutex_lock](https://linux.die.net/man/3/pthread_mutex_lock) and [pthread_cond_wait](https://linux.die.net/man/3/pthread_cond_wait)\n",
        "* semaphores using the family of methods containing [sem_wait](https://linux.die.net/man/3/sem_wait)\n",
        "\n",
        "As the threads are updating the value of `shared_var`, these are storing the state of `shared_var` in a dynamically allocated array. After the number of update rounds is ending, that array is used to print the history of the values (below this the part after `Processing data...`). In the example below, `thread 1 [....] 00002:0011` means `thread 1 will update the value of shared_var at round 2 with the value of 11`.\n",
        "\n",
        "The output of the running the methods should be of the following form\n",
        "```\n",
        "In main: creating thread 0\n",
        "In main: creating thread 1\n",
        "In main: creating thread 2\n",
        "In main: creating thread 3\n",
        "In main: creating thread 4\n",
        "Hello World! mutex thread #4!\n",
        "Hello World! mutex thread #0!\n",
        "Hello World! mutex thread #3!\n",
        "Hello World! mutex thread #2!\n",
        "Hello World! mutex thread #1!\n",
        "Processing data... nrthreads: 5 nrrounds: 10\n",
        "thread   0: 00000:0000 00001:0005 00002:0010 00003:0015 00004:0020 00005:0025 00006:0030 00007:0035 00008:0040 00009:0045 \n",
        "thread   1: 00000:0001 00001:0006 00002:0011 00003:0016 00004:0021 00005:0026 00006:0031 00007:0036 00008:0041 00009:0046 \n",
        "thread   2: 00000:0002 00001:0007 00002:0012 00003:0017 00004:0022 00005:0027 00006:0032 00007:0037 00008:0042 00009:0047 \n",
        "thread   3: 00000:0003 00001:0008 00002:0013 00003:0018 00004:0023 00005:0028 00006:0033 00007:0038 00008:0043 00009:0048 \n",
        "thread   4: 00000:0004 00001:0009 00002:0014 00003:0019 00004:0024 00005:0029 00006:0034 00007:0039 00008:0044 00009:0049\n",
        "```\n",
        "\n",
        "**Notes**:\n",
        "1. In the previous example `#4` refers to the thread-id `4`. Each thread has its own personalised welcome message that includes the thread-id.\n",
        "2. For `mutex` and `semaphore` the first message that the threads are printing are `Hello World! mutex thread #4!` and `Hello World! semaphore thread #4!`.\n",
        "3. The above example is for five threads and ten rounds, but the code should be general.\n",
        "\n",
        "**Goals**\n",
        "1. Implement the above program in this Colab. You can start from the `pthreads` lab exercise and augment that one with **three** methods such as ``hello_mutex` and `hello_semaphore`\n",
        "2. You need to implement **three** scripts, one for each method. There will be three outputs for each type.\n"
      ],
      "metadata": {
        "id": "FoMrl56nCN4Z"
      }
    },
    {
      "cell_type": "code",
      "source": [
        "%%writefile goparallel.c\n",
        "\n",
        "#include <assert.h>\n",
        "#include <pthread.h>\n",
        "#include <stdlib.h>\n",
        "#include <stdio.h>\n",
        "\n",
        "#include <semaphore.h>\n",
        "#include <sys/mman.h>\n",
        "#include <sys/time.h>\n",
        "\n",
        "#include <sys/resource.h>\n",
        "#include <sched.h>\n",
        "#include <math.h>\n",
        "\n",
        "#include <errno.h>\n",
        "\n",
        "#define NUM_THREADS 5\n",
        "#define NUM_ROUNDS  10\n",
        "\n",
        "volatile int shared_variable = 0;\n",
        "\n",
        "long* time_stamps;\n",
        "int* val_stamps;\n",
        "\n",
        "inline long t_double_time() {\n",
        "  struct timespec tv;\n",
        "  clock_gettime(CLOCK_REALTIME, &tv);\n",
        "\n",
        "  return tv.tv_nsec;\n",
        "}\n",
        "\n",
        "inline void store_stamps(int tid, int round, int shared_variable){\n",
        "    val_stamps[tid * NUM_ROUNDS + round] = shared_variable;\n",
        "    time_stamps[tid * NUM_ROUNDS + round] = t_double_time();\n",
        "}\n",
        "\n",
        "void print_rounds(){\n",
        "    for(int i=0; i < NUM_THREADS; i++){\n",
        "        printf(\"thread %3d: \", i);\n",
        "\n",
        "        for(int j=0; j<NUM_ROUNDS; j++){\n",
        "            printf(\"%.5d:%.4d \", j, val_stamps[i * NUM_ROUNDS + j]);\n",
        "        }\n",
        "        printf(\"\\n\");\n",
        "    }\n",
        "}\n",
        "\n",
        "/*\n",
        "  MUTEX SECTION\n",
        "*/\n",
        "pthread_mutex_t mutex = PTHREAD_MUTEX_INITIALIZER;\n",
        "pthread_cond_t* cond_is_ok;\n",
        "\n",
        "void *hello_mutex(void *threadid)\n",
        "{\n",
        "  long tid = (long)threadid;\n",
        "  printf(\"Hello World! mutex thread #%ld!\\n\", tid);\n",
        "\n",
        "  int local_var = (tid + 1) % NUM_THREADS;\n",
        "  int ngh = (tid + 1) % NUM_THREADS;\n",
        "\n",
        "  for(int i=0; i < NUM_ROUNDS; i++) {\n",
        "    // TODO 5: Ensure no other thread can access the shared variable (replace ...)\n",
        "    //pthread_ ... (&mutex)\n",
        "    while(shared_variable % NUM_THREADS != tid){\n",
        "      // TODO 6: Wait on the conditional variable (replace ...)\n",
        "      //pthread_ ... (&cond_is_ok[tid], &mutex);\n",
        "    }\n",
        "    shared_variable = local_var;\n",
        "\n",
        "    // TODO 7: Signal the conditional variable (replace ...)\n",
        "    //pthread_ ... (&cond_is_ok[ ngh ]);\n",
        "    // TODO 5: Allow other threads to access the shared variable (replace ...)\n",
        "    //pthread_ ... (&mutex);\n",
        "\n",
        "    store_stamps(tid, i, local_var);\n",
        "    \n",
        "    local_var += NUM_THREADS;\n",
        "  }\n",
        "\n",
        "  pthread_exit(NULL);\n",
        "}\n",
        "\n",
        "/*\n",
        "  SEMAPHORE SECTION\n",
        "*/\n",
        "sem_t* semaphores;\n",
        "\n",
        "void *hello_semaphore(void *threadid)\n",
        "{\n",
        "  long tid = (long)threadid;\n",
        "  printf(\"Hello World! semaphore thread #%ld!\\n\", tid);\n",
        "\n",
        "  int local_var =(tid + 1) % NUM_THREADS;\n",
        "\n",
        "  for(int i=0; i < NUM_ROUNDS; i++) {\n",
        "\n",
        "    // TODO 8: Wait (replace ...)\n",
        "    //... (&semaphores[tid]);\n",
        "\n",
        "    // update the variable in turns?\n",
        "    shared_variable = local_var;\n",
        "\n",
        "    store_stamps(tid, i, local_var);\n",
        "\n",
        "    // TODO 8: Release (replace ...)\n",
        "    //... (&semaphores[(tid + 1) % NUM_THREADS]);\n",
        "\n",
        "    local_var += NUM_THREADS;\n",
        "  }\n",
        "\n",
        "  pthread_exit(NULL);\n",
        "}\n",
        "\n",
        "int main (int argc, char *argv[])\n",
        "{\n",
        "  //reinit the variable\n",
        "  shared_variable = 0;\n",
        "\n",
        "  int rc;\n",
        "  long t;\n",
        "  pthread_t threads[NUM_THREADS];\n",
        "  semaphores = (sem_t*) malloc(NUM_THREADS * sizeof(sem_t));\n",
        " \n",
        "  time_stamps = (long*) malloc(NUM_THREADS * NUM_ROUNDS * sizeof(double));\n",
        "  val_stamps = (int*) malloc(NUM_THREADS * NUM_ROUNDS * sizeof(int));\n",
        "\n",
        "  cond_is_ok = (pthread_cond_t*)malloc(NUM_THREADS * sizeof(pthread_cond_t));\n",
        "  pthread_mutex_init(&mutex, NULL);\n",
        "  for(t=0; t<NUM_THREADS; t++) {\n",
        "    // TODO: 9 Initialise the semaphores and conditional variables\n",
        "    // sem_init(...)\n",
        "    // pthread_cond_init(...)\n",
        "  }\n",
        "  \n",
        "  // TODO: 10 Start first thread by signalling the semaphore (replace ...)\n",
        "  //sem_post(...);\n",
        "\n",
        "  int run = 1;\n",
        "  while(run != 0) {\n",
        "    for (t = 0; t < NUM_THREADS; t++) {\n",
        "      printf(\"In main: creating thread %ld\\n\", t);\n",
        "\n",
        "      // TODO: 11 Launch a thread with one of the synchronisation methods:\n",
        "      // mutex or semaphore\n",
        "      //rc = pthread_create(&threads[t], NULL, ..., (void *)t);\n",
        "\n",
        "      if (rc) {\n",
        "        printf(\"ERROR; return code from pthread_create() is %d\\n\", rc);\n",
        "        return -1;\n",
        "      }\n",
        "    }\n",
        "\n",
        "    for (t = 0; t < NUM_THREADS; t++) {\n",
        "      rc = pthread_join(threads[t], NULL);\n",
        "      if (rc) {\n",
        "        printf(\"ERROR; return code from pthread_join() is %d\\n\", rc);\n",
        "        return -1;\n",
        "      }\n",
        "    }\n",
        "\n",
        "    for (t = 0; t < NUM_THREADS; t++) {\n",
        "      sem_destroy(&semaphores[t]);\n",
        "      pthread_cond_destroy(&cond_is_ok[t]);\n",
        "    }\n",
        "\n",
        "    printf(\"Processing data... nrthreads: %d nrrounds: %d\\n\", NUM_THREADS, NUM_ROUNDS);\n",
        "    print_rounds();\n",
        "    \n",
        "    run--;\n",
        "  }\n",
        "\n",
        "  free(time_stamps);\n",
        "\n",
        "  /* Last thing that main() should do */\n",
        "  pthread_exit(NULL);\n",
        "}"
      ],
      "metadata": {
        "id": "C4z1qZYRCO6v",
        "colab": {
          "base_uri": "https://localhost:8080/"
        },
        "outputId": "26dac7a3-9b83-4cb4-f987-f90fb299c7a4"
      },
      "execution_count": null,
      "outputs": [
        {
          "output_type": "stream",
          "name": "stdout",
          "text": [
            "Writing goparallel.c\n"
          ]
        }
      ]
    },
    {
      "cell_type": "code",
      "source": [
        "!g++ -std=c++11 -lm -pthread -Wall -o goparallel2 goparallel.c"
      ],
      "metadata": {
        "id": "FEl-iYlwCTWK"
      },
      "execution_count": null,
      "outputs": []
    },
    {
      "cell_type": "code",
      "source": [
        "!./goparallel2"
      ],
      "metadata": {
        "id": "eZHkaDaiCT4J"
      },
      "execution_count": null,
      "outputs": []
    }
  ]
}