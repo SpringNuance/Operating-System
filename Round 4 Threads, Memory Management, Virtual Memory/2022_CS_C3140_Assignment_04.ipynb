{
  "nbformat": 4,
  "nbformat_minor": 0,
  "metadata": {
    "colab": {
      "provenance": [],
      "collapsed_sections": [
        "ErfFMVRFBcio",
        "054sbUkob2c3",
        "pmECBCuVdu8N",
        "nnZ7Q1onJ9DU"
      ],
      "toc_visible": true
    },
    "kernelspec": {
      "name": "python3",
      "display_name": "Python 3"
    },
    "language_info": {
      "name": "python"
    }
  },
  "cells": [
    {
      "cell_type": "markdown",
      "source": [
        "![image.png](data:image/png;base64,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)"
      ],
      "metadata": {
        "id": "DpaHjK7u0Pcn"
      }
    },
    {
      "cell_type": "markdown",
      "source": [
        "#Assignment 4: Introduction to C programming language\n",
        "\n",
        "**Note**: The following exercises can be solved in a number of ways:\n",
        "* Using this Google Colab notebook (please save your own copy and work on that, instructions below)\n",
        "* Compiling the C source code on your own machine\n",
        "* **If you are familiar with Linux:**\n",
        "* Over an SSH connection to [Aalto shell servers](https://www.aalto.fi/en/services/linux-shell-servers-at-aalto)\n",
        "\n",
        "Please feel free to use the option that works best for you. Please enter the results in the [A+ platform](https://plus.cs.aalto.fi/accounts/login/?next=/os/2022/). For any questions please refer to the [Zulip chat of the OS course](https://operatingsystems.zulip.aalto.fi/).\n",
        "\n",
        "This assignment contains:\n",
        "*   a tutorial on how to use Google Colab\n",
        "*   a few warmup exercises for the [C programming language](https://primo.aalto.fi/permalink/358AALTO_INST/ha1cg5/alma998682294406526) (**use A+ to communicate the results**)\n",
        "\n",
        "**When compiling the code below, before making any of your edits, for gcc versions less than 9.5.0, you may see compilation warnings which you can safely ignore. It is not safe to ignore any other compilation warnings and compilation errors introduced by code added or edited by you.**"
      ],
      "metadata": {
        "id": "ErfFMVRFBcio"
      }
    },
    {
      "cell_type": "markdown",
      "source": [
        ">[How to use Google Colab](#scrollTo=054sbUkob2c3)\n",
        "\n",
        ">>[What is Google Colab](#scrollTo=pmECBCuVdu8N)\n",
        "\n",
        ">>[Running and Organizing Cells](#scrollTo=nnZ7Q1onJ9DU)\n",
        "\n",
        ">>[Saving and Exporting Colab file](#scrollTo=BW9alsqpJ9DV)\n",
        "\n",
        ">[Exercise 1](#scrollTo=KlOLHiAoKeGl)\n",
        "\n",
        ">[Exercise 2](#scrollTo=WeoZNJnUbBbQ)\n",
        "\n",
        ">[Exercise 3](#scrollTo=JQNDdNB2lRRX)\n",
        "\n",
        ">[Exercise 4](#scrollTo=J1DtzbGYtHKF)\n",
        "\n",
        ">[Exercise 5](#scrollTo=Z7QUiiVSC3f7)\n",
        "\n",
        ">[Exercise 6](#scrollTo=le6eMv8GOA0b)\n",
        "\n"
      ],
      "metadata": {
        "colab_type": "toc",
        "id": "vl8IpkB-w18K"
      }
    },
    {
      "cell_type": "markdown",
      "metadata": {
        "id": "054sbUkob2c3"
      },
      "source": [
        "# How to use Google Colab\n",
        "\n",
        "Colab is easy to learn and it is very similar to Jupyter Notebook, another very popular tool for interactive coding."
      ]
    },
    {
      "cell_type": "markdown",
      "metadata": {
        "id": "pmECBCuVdu8N"
      },
      "source": [
        "## What is Google Colab\n",
        "\n",
        "Google Colab is a web-based iPython Notebook service for interactive coding. Google Colab offers **free access to Nvidia K80 GPU**, and it is becoming a popular tool for quick prototyping and visualization. In this course, we will use Google Colab for most of the labs and tutorials."
      ]
    },
    {
      "cell_type": "markdown",
      "metadata": {
        "id": "fcJ76d6GJ2AR"
      },
      "source": [
        "\n",
        "A Colab file is composed of 'cells' which are blocks of code that can be run independently. Cells can be added by clicking the '+' buttons on the top left-hand side. \n",
        "\n",
        "You can select a cell by clicking on it. Below is an example of code cell."
      ]
    },
    {
      "cell_type": "code",
      "metadata": {
        "colab": {
          "base_uri": "https://localhost:8080/"
        },
        "outputId": "2ae37880-a951-48d4-9a48-83c4b6f953d6",
        "id": "JwIAkI0AJ2AS"
      },
      "source": [
        "print(\"This is 'code' cell.\")\n",
        "\n",
        "a = 4\n",
        "print(\"a: %d\" % a)"
      ],
      "execution_count": null,
      "outputs": [
        {
          "output_type": "stream",
          "name": "stdout",
          "text": [
            "This is 'code' cell.\n",
            "a: 4\n"
          ]
        }
      ]
    },
    {
      "cell_type": "markdown",
      "metadata": {
        "id": "nnZ7Q1onJ9DU"
      },
      "source": [
        "## Running and Organizing Cells\n",
        "\n",
        "There are several options for running a cell or group of cells. These options are listed under the **Runtime** menu of the header. \n",
        "\n",
        "Alternatively, a single cell can be executed by the 'Run' button on the left side. \n",
        "\n",
        "![alt text](https://drive.google.com/uc?export=view&id=1Eaw-1kEgthETTDlNL3E2mDrGAEJV2a0E)\n",
        "\n",
        "\n",
        "Try running the above example code cell. Then, run the code cell below. "
      ]
    },
    {
      "cell_type": "markdown",
      "metadata": {
        "id": "jM-3-hXqJ9DU"
      },
      "source": [
        "Note that each cells can be run independently, and if there is a change, only the cells related to that change need to be run again. \n",
        "\n",
        "Therefore, it is important to decompose your code into blocks of cells, instead of writing everything in a single cell. This modular approach makes it easy to change parts of the code without re-running everything. "
      ]
    },
    {
      "cell_type": "markdown",
      "metadata": {
        "id": "BW9alsqpJ9DV"
      },
      "source": [
        "## Saving and Exporting Colab file\n",
        "\n",
        "\n"
      ]
    },
    {
      "cell_type": "markdown",
      "metadata": {
        "id": "4omHUGIJJ9DV"
      },
      "source": [
        "As mentioned above, Playground only provides temporary session, so in order to save any changes, notebook files must be saved. \n",
        "\n",
        "The easiest way to save Colab notebook is to save it in your Google Drive. Click **File > Save a copy in Drive**. Once you saved a copy of this tutorial, you can open it from your Google Drive or Colab dashboard. \n",
        "\n",
        "![alt text](https://drive.google.com/uc?export=view&id=1y_LaRF0wsE71QMzlYW4nrqRxXsW_MLcJ)\n",
        "\n",
        "![alt text](https://drive.google.com/uc?export=view&id=1Tfy9LqrwdhhDBI8RQMkCe5RnzZPf6F2o)\n",
        "\n",
        "Try creating a folder for this course (e.g. APS360) in your Google Drive and save all Colab files in there to reduce clutter. "
      ]
    },
    {
      "cell_type": "markdown",
      "metadata": {
        "id": "kq-iAz8sJ9DV"
      },
      "source": [
        "Colab can be exported as a notebook file or Python file by **File > Download .ipynb** or **File > Download .py**. Exported notebook files can be reloaded into Google Colab or used in Jupyter Notebook. "
      ]
    },
    {
      "cell_type": "markdown",
      "metadata": {
        "id": "kRwdwp2-J9DW"
      },
      "source": [
        "You can share Colab using sharable link. Click 'Share' button on the top right corner and click 'Get sharable link'.\n",
        "\n",
        "![image.png](data:image/png;base64,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)\n"
      ]
    },
    {
      "cell_type": "markdown",
      "source": [
        "# Exercise 1 (2 points)\n",
        "\n",
        "When programming in C, we use the *printf* function to print formatted strings to the console.  The printf function accepts a format string and 0 or more additional arguments that specify the values to apply to the format string.   The format string is composed of text and one or more format specifiers; each format specifier is denoted using the \"%\" character.  Your program must contain the \"#include <stdio.h>\" directive to use printf. \n",
        "\n",
        "**Check this [link](https://man7.org/linux/man-pages/man3/printf.3.html) for more information about printf.**\n",
        "\n",
        "You may want to also understand how text characters are represented in C  for this exercise. Have a look at the ASCII table: https://en.wikipedia.org/wiki/ASCII"
      ],
      "metadata": {
        "id": "KlOLHiAoKeGl"
      }
    },
    {
      "cell_type": "markdown",
      "source": [
        "*Question*: What format specifiers (in order) do you need to use in the printf function to get the following output:\n",
        "\n",
        "output: 65, I, 5 \n",
        "\n",
        "\t\ta. %d, %f, %c\n",
        "\t\tb. %d, %c, %d\n",
        "\t\tc. %d, %d, %d\n"
      ],
      "metadata": {
        "id": "Mlugw604cxJq"
      }
    },
    {
      "cell_type": "markdown",
      "source": [
        "Feel free to edit the source code in the cell below and try things out.\n",
        "(Note: Lines that start with '//' are C code comments - they are not executable code. Lines that start with '%%' are Collab-specific macros and shouldn't be edited)"
      ],
      "metadata": {
        "id": "UaYiLsPLR6jI"
      }
    },
    {
      "cell_type": "code",
      "source": [
        "%%writefile prog1.c\n",
        "\n",
        "// Include the C standard I/O library\n",
        "#include<stdio.h>\n",
        "\n",
        "// Main function\n",
        "int main(void)\n",
        "{\n",
        "    // Declare variables\n",
        "    char n = 'A';\n",
        "    int c = 'I';\n",
        "    char diff = 'J' - 'E';\n",
        "    \n",
        "    // do not edit above this line\n",
        "\n",
        "    // TODO - call the printf function with the right format descriptors to print n, c and diff variables \n",
        "\n",
        "    // do not edit below this line\n",
        "\n",
        "    // Return 0 = success\n",
        "    return 0;\n",
        "}"
      ],
      "metadata": {
        "id": "4GKGTuQJN-SB"
      },
      "execution_count": null,
      "outputs": []
    },
    {
      "cell_type": "markdown",
      "source": [
        "The cell below will compile the code that you just wrote in the previous cell"
      ],
      "metadata": {
        "id": "JnT_OPTfThx4"
      }
    },
    {
      "cell_type": "code",
      "source": [
        "# do not edit this\n",
        "!gcc -o prog1 prog1.c"
      ],
      "metadata": {
        "id": "GaXlHv6YONht"
      },
      "execution_count": null,
      "outputs": []
    },
    {
      "cell_type": "markdown",
      "source": [
        "The cell below with run the compiled binary and any output will be printed out underneath it"
      ],
      "metadata": {
        "id": "F6en5asyTnui"
      }
    },
    {
      "cell_type": "code",
      "source": [
        "# do not edit this\n",
        "!./prog1"
      ],
      "metadata": {
        "id": "9mcYSVF2Qc73"
      },
      "execution_count": null,
      "outputs": []
    },
    {
      "cell_type": "markdown",
      "source": [
        "# Exercise 2 (2 points)\n",
        "\n",
        "It is useful to know the difference between *declaration*, *definition* and *initialization* in C!\n",
        "\n",
        "A *declaration* provides basic attributes of a symbol: its type and its name. \n",
        "\n",
        "A *definition* provides all of the details of that symbol. If it's a function, what it does. If it's a class, what fields and methods does it have. If it's a variable, where is that variable stored.\n",
        "\n",
        "\n",
        "\n",
        "```\n",
        "// declaration\n",
        "int x;\n",
        "float y;\n",
        "\n",
        "// definition\n",
        "x = 3;\n",
        "y = 100;\n",
        "```\n",
        "\n",
        "*Initialisation* is nothing but assigning the value at the time of declaration.\n",
        "\n",
        "\n",
        "```\n",
        "int a = 10;\n",
        "```\n",
        "In the previous exercise you may have noticed that we use type 'char' do declare a character variable, and type 'int' to declare an integer variable. However, characters are just 'numbers' for the C compiler, because every character can be represented using one byte. Thus, we can only represent 256 characters using the char type! \n",
        "\n",
        "Let's learn more about data types in C!"
      ],
      "metadata": {
        "id": "WeoZNJnUbBbQ"
      }
    },
    {
      "cell_type": "markdown",
      "source": [
        "*Question*: What data types and format specifiers (in order) do you need to use in this example to get the following output: \n",
        "\n",
        "output: 4000000000, 23.111099, 43, I like coding in C!\n",
        "\n",
        "(Hint: The sentence \"I like coding in C\" is a string. However, C does not have a native string type. It has [char arrays](https://www.programiz.com/c-programming/c-strings).\n",
        "\n",
        "\n",
        "\n",
        "\t\ta. data types (int, double, float, char) and descriptors (%l, %d, %f, %c)\n",
        "\t\tb. data types (long, double, int, char) and descriptors (%ld, %lf, %d, %s)\n",
        "\t\tc. data types (long, float, int, char) and descriptors (%ld, %f, %d, %s)\n"
      ],
      "metadata": {
        "id": "HVV2-vF-dMPb"
      }
    },
    {
      "cell_type": "code",
      "source": [
        "%%writefile prog2.c\n",
        "\n",
        "#include<stdio.h>\n",
        "\n",
        "int main(void)\n",
        "{\n",
        "    // do not edit above this line\n",
        "    // TODO - replace ... with the right data type \n",
        "    \n",
        "    ... b = 4000000000;\n",
        "    ... d = 23.1111;\n",
        "    ... x = 43.01 - 0.01;\n",
        "    ... sentence[] = \"I like coding in C!\";\n",
        "\n",
        "    // TODO - replace ... with the right format descriptors\n",
        "    printf(\"..., ..., ..., ...\", b, d, x, sentence);\n",
        "\n",
        "    // do not edit below this line\n",
        "\n",
        "    return 0;\n",
        "}"
      ],
      "metadata": {
        "id": "xyidrQDLZquU"
      },
      "execution_count": null,
      "outputs": []
    },
    {
      "cell_type": "code",
      "source": [
        "# do not edit this\n",
        "!gcc -o prog2 prog2.c"
      ],
      "metadata": {
        "id": "q0pmplHCcFyn"
      },
      "execution_count": null,
      "outputs": []
    },
    {
      "cell_type": "code",
      "source": [
        "# do not edit this\n",
        "!./prog2"
      ],
      "metadata": {
        "id": "SyIBy8yrcGUM"
      },
      "execution_count": null,
      "outputs": []
    },
    {
      "cell_type": "markdown",
      "source": [
        "# Exercise 3 (2 points)\n",
        "\n",
        "How do we increment a value in C using the **++** operator? \n",
        "\n",
        "There are two ways: \n",
        "\n",
        "*   i++ is known as post increment. In this case, first the value of i is returned and then increment is done.\n",
        "\n",
        "*   ++i is called pre increment. In this case, first the increment is done and then value of i is returned.\n",
        "\n",
        "Let's see how this actually works.\n",
        "\n",
        "Note that this operator has the same effect as adding 1 to the variable's value.\n",
        "i++ has the same behaviour as i = i + 1 and i += 1. \n",
        "\n",
        "The **--** operator is similar, but substracts 1 from the variable's value. (i.e. decrements)"
      ],
      "metadata": {
        "id": "JQNDdNB2lRRX"
      }
    },
    {
      "cell_type": "markdown",
      "source": [
        "*Question*: What values should we assign to variables a and b to get the following output: \n",
        "\n",
        "output: 12, 3, 104, 208\n",
        "\n",
        "\t\ta.  a = 4, b = 106\n",
        "\t\tb.  a = 3, b = 105\n",
        "\t\tc.  a = 3, b = 106"
      ],
      "metadata": {
        "id": "OwFYcgMwr1Xf"
      }
    },
    {
      "cell_type": "code",
      "source": [
        "%%writefile prog3.c\n",
        "\n",
        "#include<stdio.h>\n",
        "\n",
        "int main(void)\n",
        "{\n",
        "\n",
        "    // do not edit above this line\n",
        "    // TODO - initialize variables a and b with the right values\n",
        "\n",
        "    int a = ..., b = ...;\n",
        "\n",
        "    // do not edit below this line\n",
        "\n",
        "    printf(\"%d, %d, %d, %d\", 3*a--, a++, b++, --b*2);\n",
        "    return 0;\n",
        "}"
      ],
      "metadata": {
        "id": "ijxKZ4fXnTkR"
      },
      "execution_count": null,
      "outputs": []
    },
    {
      "cell_type": "code",
      "source": [
        "# do not edit this\n",
        "!gcc -o prog3 prog3.c"
      ],
      "metadata": {
        "id": "kWqHNJF3oE6W"
      },
      "execution_count": null,
      "outputs": []
    },
    {
      "cell_type": "code",
      "source": [
        "# do not edit this\n",
        "!./prog3"
      ],
      "metadata": {
        "id": "FE7gDPyUoHm9"
      },
      "execution_count": null,
      "outputs": []
    },
    {
      "cell_type": "markdown",
      "source": [
        "# Exercise 4 (2 points)\n",
        "\n",
        "C has support for bitwise operators!\n",
        "\n",
        "This exercise focuses on the AND operator '&'.\n",
        "In C, the '&' operator takes two numbers as operands and does AND on every bit of the two numbers. The result of AND is 1 only if both bits are 1.\n",
        "\n",
        "More about bitwise operators in C: https://www.programiz.com/c-programming/bitwise-operators."
      ],
      "metadata": {
        "id": "J1DtzbGYtHKF"
      }
    },
    {
      "cell_type": "markdown",
      "source": [
        "*Question*: What values should we assign to variables a and b to get the following output:\n",
        "\n",
        "output: 8, 0\n",
        "\n",
        "\t\ta. a = 256, b can be any even number\n",
        "\t\tb. a = 12, b can be any power of two\n",
        "\t\tc. a = 12, b can only be 0"
      ],
      "metadata": {
        "id": "De6o3PTzw7R8"
      }
    },
    {
      "cell_type": "code",
      "source": [
        "%%writefile prog4.c\n",
        "\n",
        "#include<stdio.h>\n",
        "\n",
        "int main(void)\n",
        "{\n",
        "    // do not edit above this line\n",
        "    // TODO - replace ... with the right values\n",
        "\n",
        "    int a = ..., b = ...;\n",
        "\n",
        "    // do not edit below this line\n",
        "\n",
        "    int ra = a & (a - 1), rb = b & (b - 1);\n",
        "    printf(\"%d, %d\", ra, rb);\n",
        "    return 0;\n",
        "}"
      ],
      "metadata": {
        "id": "vqV2VB_CuTqX"
      },
      "execution_count": null,
      "outputs": []
    },
    {
      "cell_type": "code",
      "source": [
        "# do not edit this cell\n",
        "!gcc -o prog4 prog4.c"
      ],
      "metadata": {
        "id": "An-BhwjSutzL"
      },
      "execution_count": null,
      "outputs": []
    },
    {
      "cell_type": "code",
      "source": [
        "# do not edit this cell\n",
        "!./prog4"
      ],
      "metadata": {
        "id": "EUAk-WOSuvIF"
      },
      "execution_count": null,
      "outputs": []
    },
    {
      "cell_type": "markdown",
      "source": [
        "# Exercise 5 (2 points)\n",
        "\n",
        "There are many ways to play around with variables of type char and integer in C. Many of the modern programming languages borrowed this behaviour from C. But what do we actually mean by this?  Let's check some examples.\n",
        "\n",
        "\n",
        "e.g. How do we convert from an *int* to a *char*? \n",
        "\n",
        "The character '0' has an ASCII value of 48. We have to add its value to an integer value to convert it into another character.\n",
        "\n",
        "\n",
        "\n",
        "```\n",
        "int number = 75;\n",
        "char character = number + '0'; \n",
        "\n",
        "```\n",
        "\n",
        "The value of the variabe will be 'K' (ASCII = 75).\n",
        "\n",
        "e.g. How do we convert an *int* to a *char*? (this is also known as [\"casting\"](https://en.wikipedia.org/wiki/Type_conversion))\n",
        "\n",
        "```\n",
        "int number = 70;\n",
        "char charValue = (char)number;\n",
        "```\n",
        "The value of the variable will be 'F'.\n",
        "\n",
        "e.g. How do we convert from an uppercase letter to a lowercase letter? \n",
        "\n",
        "```\n",
        "char lowercase = 'a';\n",
        "char uppercase = lowercase + 32;\n",
        "```\n",
        "The value of the variable will be 'A'.\n",
        "\n",
        "You may want to check the ASCII table to understand why some of these work.\n",
        "\n",
        "Can you think of why we might want to be careful when converting types? **Hint: Think about how much memory is assigned to a variable of each type. What if we convert it to a type that can hold more memory (e.g. char -> int)? What if we it holds less (e.g. int -> char)?**"
      ],
      "metadata": {
        "id": "Z7QUiiVSC3f7"
      }
    },
    {
      "cell_type": "markdown",
      "source": [
        "*Question*: What non-zero integer value can you assign to variable 'overflow' so that the output is still 'c'?\n",
        "\n",
        "\t\ta.  overflow can only be 256\n",
        "\t\tb.  overflow = '0'\n",
        "\t\tc.  overflow can be any multiple of 256"
      ],
      "metadata": {
        "id": "aIadolV_NHiL"
      }
    },
    {
      "cell_type": "code",
      "source": [
        "%%writefile prog5.c\n",
        "\n",
        "#include<stdio.h>\n",
        "\n",
        "int main(void)\n",
        "{\n",
        "    int a = 'c';\n",
        "\n",
        "    // do not edit above this line\n",
        "    // TODO - replace ... with the right value\n",
        "\n",
        "    int overflow  = ...;\n",
        "\n",
        "    // do not edit below this line\n",
        "\n",
        "    printf(\"%c\", a + overflow);\n",
        "    return 0;\n",
        "}"
      ],
      "metadata": {
        "id": "T2Qbsk_fLFml"
      },
      "execution_count": null,
      "outputs": []
    },
    {
      "cell_type": "code",
      "source": [
        "# do not edit this cell\n",
        "!gcc -o prog5 prog5.c"
      ],
      "metadata": {
        "id": "CldihUXULVx3"
      },
      "execution_count": null,
      "outputs": []
    },
    {
      "cell_type": "code",
      "source": [
        "# do not edit this cell\n",
        "!./prog5"
      ],
      "metadata": {
        "id": "R_eYcRd1LZEf"
      },
      "execution_count": null,
      "outputs": []
    },
    {
      "cell_type": "markdown",
      "source": [
        "# Exercise 6 (2 points)\n",
        "What are pointers?\n",
        "\n",
        "A **pointer** in C is an address in memory. A certain value will be stored at that memory address, hence we are \"pointing\" to it. A pointer can be stored in a variable, just like any other value.\n",
        "The syntax of a pointer variable declaration is:\n",
        "\n",
        "*type *variable_name;*\n",
        "\n",
        "Where *type* denotes the type of the value stored at the pointer. The '*' is used to denote that this is a pointer variable.\n",
        "\n",
        "We can return the address of any variable and store it inside a pointer variable via the operator '&'. E.g:\n",
        "\n",
        "int var = 5;\n",
        "\n",
        "int *var_address = &var;\n",
        "\n",
        "\n",
        "There are two methods to pass data into a function in the C language: by value and by reference.\n",
        "\n",
        "**Calling by value**\n",
        "\n",
        "In call by value, we call a function passing variables as arguments to that function. The variables are copied into the function's stack frame as temporary local variables. Hence, when the function returns, the original variables passed to the function are unchanged.\n",
        "\n",
        "Let's look at the following snippet that demonstrates this behaviour:\n",
        "\n",
        "```\n",
        "#include<stdio.h>  \n",
        "\n",
        "void modify(int n) \n",
        "{    \n",
        "    printf(\"Before adding 1 inside function n=%d \\n\",n);    \n",
        "    n = n + 1;    \n",
        "    printf(\"After adding 1 inside function n=%d \\n\", n);    \n",
        "}    \n",
        "\n",
        "int main() \n",
        "{    \n",
        "    int x = 10;    \n",
        "\n",
        "    printf(\"Before calling the function x=%d \\n\", x);    \n",
        "    modify(x); //passing value in function    \n",
        "    printf(\"After calling the function x=%d \\n\", x);    \n",
        "\n",
        "    return 0;  \n",
        "}    \n",
        "\n",
        "output:\n",
        "\n",
        "Before calling the function x=10\n",
        "Before adding 1 inside function n=10\n",
        "After adding 1 inside function n=11\n",
        "After calling the function x=10\n",
        "```\n",
        "\n",
        "\n",
        "\n",
        "**Calling by reference**\n",
        "\n",
        "In call by reference, we call a function with **pointers** to variables (their real addresses in memory). Hence, any modifications within the function body will be changing the original variable outside the function scope.\n",
        "In other words, formal arguments share the same address space.\n",
        "\n",
        "Let's look at the following snippet that demonstrates this behaviour:\n",
        "\n",
        "```\n",
        "#include<stdio.h>  \n",
        "\n",
        "void modify(int *n) \n",
        "{    \n",
        "    printf(\"Before adding 1 inside function n=%d \\n\",*n);    \n",
        "    (*n) += 1;    \n",
        "    printf(\"After adding 1 inside function n=%d \\n\", *n);    \n",
        "}      \n",
        "\n",
        "int main() \n",
        "{    \n",
        "    int x = 10;    \n",
        "    printf(\"Before calling the function x=%d \\n\", x);    \n",
        "    modify(&x); //passing reference in function    \n",
        "    printf(\"After calling the function x=%d \\n\", x);    \n",
        "    return 0;  \n",
        "}  \n",
        "\n",
        "output:\n",
        "\n",
        "Before calling the function x=10\n",
        "Before adding 1 inside function n=10\n",
        "After adding 1 inside function n=11\n",
        "After calling the function x=11\n",
        "\n",
        "```\n",
        "\n"
      ],
      "metadata": {
        "id": "le6eMv8GOA0b"
      }
    },
    {
      "cell_type": "markdown",
      "source": [
        "This exercise illustrates passing by reference by swapping two numbers."
      ],
      "metadata": {
        "id": "u6h_qQ_2Pp-V"
      }
    },
    {
      "cell_type": "markdown",
      "source": [
        "Call the swap function so that the values of a and b are swapped correctly in the main() function. After this, try to print the addresses of the variables a and b using the printf function.\n",
        "\n",
        "*Question*: What does the program output?\n",
        "\n",
        "\t\ta.  some integer values are returned, but I do get warnings \n",
        "\t\tb.  the program outputs \"3, 2\"\n",
        "\t\tc.  there isn't any way to print addresses using the printf function\n",
        "\t\td.  hex values are returned with no warnings "
      ],
      "metadata": {
        "id": "MvYnYMkSlc05"
      }
    },
    {
      "cell_type": "code",
      "source": [
        "%%writefile prog6.c\n",
        "#include <stdio.h>\n",
        " \n",
        "void swap(int *a, int *b)\n",
        "{\n",
        "    // * is used to dereference the pointer variable\n",
        "    *a = *a ^ *b;\n",
        "    *b = *b ^ *a;\n",
        "    *a = *a ^ *b;\n",
        "}\n",
        "\n",
        "int main() \n",
        "{\n",
        "    int a = 2, b = 3;\n",
        "\n",
        "\n",
        "    // do not edit above this line\n",
        "    // TODO - replace ... with the call of the swap function. The second ... should be the printf\n",
        "\n",
        "    ...\n",
        "\n",
        "    ...\n",
        "\n",
        "    // do not edit below this line\n",
        "\n",
        "    return 0;\n",
        "}"
      ],
      "metadata": {
        "id": "3zY9vGTiQDB6"
      },
      "execution_count": null,
      "outputs": []
    },
    {
      "cell_type": "code",
      "source": [
        "# do not edit this cell\n",
        "!gcc -o prog6 prog6.c"
      ],
      "metadata": {
        "id": "Wqp6tpJtky9u"
      },
      "execution_count": null,
      "outputs": []
    },
    {
      "cell_type": "code",
      "source": [
        "# do not edit this cell\n",
        "!./prog6"
      ],
      "metadata": {
        "id": "94nTaCF8k2wX"
      },
      "execution_count": null,
      "outputs": []
    }
  ]
}