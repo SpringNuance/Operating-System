{
  "nbformat": 4,
  "nbformat_minor": 0,
  "metadata": {
    "colab": {
      "provenance": []
    },
    "kernelspec": {
      "name": "python3",
      "display_name": "Python 3"
    },
    "language_info": {
      "name": "python"
    }
  },
  "cells": [
    {
      "cell_type": "code",
      "source": [],
      "metadata": {
        "id": "jq8org70GJi4"
      },
      "execution_count": null,
      "outputs": []
    },
    {
      "cell_type": "markdown",
      "source": [
        "![image.png](data:image/png;base64,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)"
      ],
      "metadata": {
        "id": "-azk3fLUba--"
      }
    },
    {
      "cell_type": "markdown",
      "source": [
        "#Assignment 6: Writing a character device driver for Linux in C\n",
        "\n",
        "Please enter the results in the [A+ platform](https://plus.cs.aalto.fi/accounts/login/?next=/os/2022/). For any questions please refer to the [Zulip chat of the OS course](https://operatingsystems.zulip.aalto.fi/)."
      ],
      "metadata": {
        "id": "ppxEnogAHmU3"
      }
    },
    {
      "cell_type": "markdown",
      "source": [
        ">[Writing & testing a device driver](#scrollTo=u98TkQmORTck)\n",
        "\n",
        ">>[Introduction](#scrollTo=xNnD8qZ4YXys)\n",
        "\n",
        ">>[Character devices](#scrollTo=H_b2WJSRaNzd)\n",
        "\n",
        ">>[C code for a Linux device driver](#scrollTo=ji5TZlSiglYq)\n",
        "\n",
        ">[Build process](#scrollTo=Zi76LE3EOmFi)\n",
        "\n",
        ">>[The Makefile](#scrollTo=Zi76LE3EOmFi)\n",
        "\n",
        ">>[Module building and installing](#scrollTo=aJ_SGgs0pdxZ)\n",
        "\n",
        ">[Testing the Driver](#scrollTo=-qYpGT8WNrcn)\n",
        "\n"
      ],
      "metadata": {
        "colab_type": "toc",
        "id": "V0gSNkjD4r4x"
      }
    },
    {
      "cell_type": "markdown",
      "source": [
        "The following code will work only if you have followed all the steps of the previous assignment (*Exercise 2 -- Preparing a Virtual Machine*). You can use the Text Editor in TinyCore to write the `Makefile` and a source file called `aaltodriver.c` file (or use `nano` after installing it; installation command is `$tce-load -wi nano`)\n",
        "\n",
        "**Note**: For this exercise you have to use the TinyCore virtual machine which you created in the previous assignment.\n",
        "\n",
        "**Note**: The following code is not meant to be run in Colab.\n",
        "\n",
        "**Note**: You need to run `linux-kernel-sources-env.sh` again.\n",
        "\n",
        "**Note**: The code below is based on the examples available in [Linux Device Drivers, Chapter 3](https://static.lwn.net/images/pdf/LDD3/ch03.pdf) and at [kernel.org](https://www.kernel.org/doc/html/v4.14/input/input-programming.html). For readability purposes, system calls are not explicitly handling error codes.\n",
        "\n",
        "**Hint**: Use the `man` pages for any of the calls and methods below for a complete description of their functionality."
      ],
      "metadata": {
        "id": "zMLRGn__VG-e"
      }
    },
    {
      "cell_type": "code",
      "source": [
        "! man exec"
      ],
      "metadata": {
        "id": "joBNoex86m6j"
      },
      "execution_count": null,
      "outputs": []
    },
    {
      "cell_type": "markdown",
      "source": [
        "# Writing & testing a device driver\n",
        "\n",
        "The kernel works as a middleware software for hardware and user programs. Kernel mode is generally reserved for low level trusted functions of the operating system. When the process is executing in user mode and if that process requires hardware resources such as RAM, printer etc, that process should send a request to the kernel. These requests are sent through **system calls**. Then the computer enters kernel mode from user mode. When the task is completed, the mode changes back to user mode from kernel mode. It is not possible to run all processes in the kernel mode because if a process fails the entire operating system might fail.\n",
        "\n",
        "**Note**: You can find a discussion about user and kernel mode in in the lecture slides. The previous assignment included programming exercises about system calls.\n",
        "\n",
        "The Linux Operating system has the *User Space* and the *Kernel Space*. User space runs all the **user applications**. For example, the GNU C Library (GlibC) implements a set of functions used by an application developer which meant to run in User space.\n",
        "\n",
        "The Kernel space implements **device drivers, kernel modules and system calls**. Kernel space is not directly accessible from the user space but we can use system calls to create an interface between the two."
      ],
      "metadata": {
        "id": "u98TkQmORTck"
      }
    },
    {
      "cell_type": "markdown",
      "source": [
        "## Introduction\n",
        "\n"
      ],
      "metadata": {
        "id": "xNnD8qZ4YXys"
      }
    },
    {
      "cell_type": "markdown",
      "source": [
        "Programming a kernel module is different from user space\n",
        "programming. A good approach would be to look for kernel modules doing something similar to what you intend and use that as a starting point. \n",
        "\n",
        "Kernels don’t use regular C libraries! None of the standard user space libraries are available from kernel code. For example, `printf()` is a user-level function and has no use to the kernel. The kernel will use a special `printk() `function to log events. "
      ],
      "metadata": {
        "id": "tw4zbgnE2k5W"
      }
    },
    {
      "cell_type": "markdown",
      "source": [
        "## Character devices\n",
        "\n",
        "Most of the Linux device drivers can be loaded on demand as kernel modules when they are needed and unloaded when they are no longer being used. Linux supports three types of hardware device: character, block and network.\n",
        "\n",
        "A **character device** is any device that can have streams of characters read from or written to it. A character device has a character device driver associated with it that can be used for a device such as a line printer that handles one character at a time. \n",
        "\n",
        "Device-type information can be found using the ls command in /dev directory. The command\n"
      ],
      "metadata": {
        "id": "H_b2WJSRaNzd"
      }
    },
    {
      "cell_type": "code",
      "source": [
        "!ls -l /dev/tty"
      ],
      "metadata": {
        "colab": {
          "base_uri": "https://localhost:8080/"
        },
        "id": "_BV9x_zA2x7P",
        "outputId": "c6810ba2-da46-44bd-8e2e-2c9ec29e9236"
      },
      "execution_count": null,
      "outputs": [
        {
          "output_type": "stream",
          "name": "stdout",
          "text": [
            "crw-rw-rw- 1 root root 5, 0 Nov  1 08:49 /dev/tty\n"
          ]
        }
      ]
    },
    {
      "cell_type": "markdown",
      "source": [
        "will output something like\n",
        "\n",
        "```\n",
        "crw-rw---- 1 root    root   4,64 Oct 13 10:23\n",
        "```\n",
        "We know this is a character device by the 'c' written at the first column of the output.\n",
        "\n",
        "In UNIX, the devices traditionally had a unique, fixed identifier associated with them. This tradition is preserved in Linux. The identifier consists of two parts: **major** and **minor**. The numbers 4 and 64 (the numbers in the code cell might be different, such as `0, 5`) represent the major and the minor numbers of the device. \n",
        "\n",
        "A common major number is assigned to all devices that are being controlled by the same device driver. The minor number helps to distinguish between the exact device type/controller using the same device driver."
      ],
      "metadata": {
        "id": "JO7RC4Da255O"
      }
    },
    {
      "cell_type": "markdown",
      "source": [
        "## C code for a Linux device driver\n",
        "\n",
        "Write a simple Linux Kernel module that is able to create **two** character devices. \n",
        "\n",
        "We will run the following steps:\n",
        "1. Create a single file called **aaltodriver.c** by merging the cells below and compile it using gcc.\n",
        "2. After completing the **TODOs** and compiling the code, you need to build and load the module created and test your driver. "
      ],
      "metadata": {
        "id": "ji5TZlSiglYq"
      }
    },
    {
      "cell_type": "markdown",
      "source": [
        "First, we will import the (header files of the ) libraries we need:"
      ],
      "metadata": {
        "id": "IdVltMe3meAy"
      }
    },
    {
      "cell_type": "code",
      "source": [
        "#include <linux/init.h>\n",
        "#include <linux/module.h>\n",
        "#include <linux/cdev.h>\n",
        "#include <linux/device.h>\n",
        "#include <linux/kernel.h>\n",
        "#include <linux/uaccess.h>\n",
        "#include <linux/fs.h>"
      ],
      "metadata": {
        "id": "tds68sjqQ1N1"
      },
      "execution_count": null,
      "outputs": []
    },
    {
      "cell_type": "markdown",
      "source": [
        "We need to set the maximum number of devices we want to create:"
      ],
      "metadata": {
        "id": "M1gEgbeemlpU"
      }
    },
    {
      "cell_type": "code",
      "source": [
        "//1. TODO: replace ... with the number of minor devices we need to create in this exercise\n",
        "#define MAX_DEVICE_NUM ..."
      ],
      "metadata": {
        "id": "lgR_u5WvnRPG"
      },
      "execution_count": null,
      "outputs": []
    },
    {
      "cell_type": "markdown",
      "source": [
        "\n",
        "Next, let's declare the device I/O functions we are going to use for our devices: "
      ],
      "metadata": {
        "id": "r1y7Ih3ipZOR"
      }
    },
    {
      "cell_type": "code",
      "source": [
        "static int chdev_open(struct inode *inode, struct file *file);\n",
        "static int chdev_release(struct inode *inode, struct file *file);\n",
        "static long chdev_ioctl(struct file *file, unsigned int cmd, unsigned long arg);\n",
        "static ssize_t chdev_read(struct file *file, char __user *buf, size_t count, loff_t *offset);\n",
        "static ssize_t chdev_write(struct file *file, const char __user *buf, size_t count, loff_t *offset);"
      ],
      "metadata": {
        "id": "Q2vFFyqGnqwI"
      },
      "execution_count": null,
      "outputs": []
    },
    {
      "cell_type": "markdown",
      "source": [
        "In the kernel, a character-type device is represented by `struct cdev`, a structure used to register it in the system. Most driver operations use three important structures: `struct file_operations`, `struct file` and `struct inode`.\n",
        "\n",
        "The character device drivers receive unaltered system calls made by users over device-type files. Consequently, implementation of a character device driver means implementing the system calls specific to files: `open, close, read, write, lseek, mmap`, etc. These operations are described in the fields of the `struct file_operations` structure:\n",
        "\n",
        "\n",
        "```\n",
        "#include <linux/fs.h>\n",
        "\n",
        "struct file_operations {\n",
        "    struct module *owner;\n",
        "    loff_t (*llseek) (struct file *, loff_t, int);\n",
        "    ssize_t (*read) (struct file *, char __user *, size_t, loff_t *);\n",
        "    ssize_t (*write) (struct file *, const char __user *, size_t, loff_t *);\n",
        "    [...]\n",
        "    long (*unlocked_ioctl) (struct file *, unsigned int, unsigned long);\n",
        "    [...]\n",
        "    int (*open) (struct inode *, struct file *);\n",
        "    int (*flush) (struct file *, fl_owner_t id);\n",
        "    int (*release) (struct inode *, struct file *);\n",
        "    [...]\n",
        "```\n",
        "\n",
        "But not all of these operations need to be implemented by a driver.\n",
        "\n",
        "We need to initialize the *struct file_operations* according to what type of device we write the driver for:"
      ],
      "metadata": {
        "id": "_Ls_4DbGnreG"
      }
    },
    {
      "cell_type": "code",
      "source": [
        "// 2. TODO: initialize file operations by replacing ...\n",
        "static const struct file_operations chdev_file_ops = {\n",
        "    .owner      = THIS_MODULE,\n",
        "    .open       = ...,\n",
        "    .release    = ..., \n",
        "    .unlocked_ioctl = ...,\n",
        "    .read       = ...,\n",
        "    .write       = ...\n",
        "};\n",
        "\n",
        "// device data holder, this structure may be extended to hold additional data\n",
        "struct mychar_device_data {\n",
        "    struct cdev cdev;\n",
        "};\n",
        "\n",
        "\n",
        "// global storage for device major number\n",
        "static int dev_major = 0;\n",
        "\n",
        "// sysfs class structure\n",
        "static struct class *chdev_class = NULL;\n",
        "\n",
        "// array of mychar_device_data for our minor devices\n",
        "static struct mychar_device_data chdev_data[MAX_DEVICE_NUM];\n",
        "\n",
        "// configure UDEV variables to set correct permissions to the character device\n",
        "static int chdev_uevent(struct device *dev, struct kobj_uevent_env *env)\n",
        "{\n",
        "    add_uevent_var(env, \"DEVMODE=%#o\", 0666);\n",
        "    return 0;\n",
        "}"
      ],
      "metadata": {
        "id": "CkKpQXI0qxlN"
      },
      "execution_count": null,
      "outputs": []
    },
    {
      "cell_type": "markdown",
      "source": [
        "The registration/unregistration of a device is made by specifying the `major` and `minor`.\n",
        "\n",
        "The `dev_t` type is used to keep the identifiers of a device (both major and minor) and can be obtained using the `MKDEV` macro. It is recommended that device identifiers are dynamically assigned to the *alloc_chrdev_region* function.\n",
        "\n",
        "Our `chdev_init` function should consist of the following steps:\n",
        "\n",
        "1.  allocation and registration of the range of char device numbers using `alloc_chrdev_region`.\n",
        "2.  get generated Major number, using `MAJOR()` macro\n",
        "3.  call function class_create(THIS_MODULE, “chdev”) that creates sysfs class with paths for each of our character devices\n",
        "4.  for each minor device, we need to: initialize the device, set the `owner` of the device, add the device to the system and create its node. "
      ],
      "metadata": {
        "id": "dDYHoWr2AZUW"
      }
    },
    {
      "cell_type": "code",
      "execution_count": null,
      "metadata": {
        "id": "h9TLbpQojaWq"
      },
      "outputs": [],
      "source": [
        "static int __init chdev_init(void)\n",
        "{\n",
        "    // declare variables\n",
        "    int err, i;\n",
        "    dev_t dev;\n",
        " \n",
        "    // 3. TODO: allocate chardev region and assign Major number\n",
        "    err = alloc_chrdev_region(..., ..., ..., \"chdev\");\n",
        "\n",
        "    // to get generated Major number, we can use MAJOR() macro\n",
        "    dev_major = MAJOR(dev);\n",
        "\n",
        "    // create sysfs class\n",
        "    chdev_class = class_create(THIS_MODULE, \"chdev\");\n",
        " \n",
        "    // setting permissions\n",
        "    chdev_class->dev_uevent = chdev_uevent;\n",
        "\n",
        "    // create each minor device\n",
        "    for (i = 0; i < MAX_DEVICE_NUM; i++) {\n",
        "        \n",
        "        // 4. TODO: initialize new device\n",
        "        ...\n",
        "\n",
        "        // 5. TODO: set the owner of the new device\n",
        "        ...\n",
        "\n",
        "        // 6. TODO: add device to the system where \"i\" is the minor number of the new device\n",
        "        ...\n",
        "\n",
        "        // 7. TODO: create device node /dev/chdev-x where \"x\" should be equal to the minor number\n",
        "        device_create(..., NULL, ..., NULL, \"chdev-%d\", ...);\n",
        "    }\n",
        "    return 0;\n",
        "}"
      ]
    },
    {
      "cell_type": "markdown",
      "source": [
        "If we no longer need the device, we must destroy it.\n",
        "\n",
        "Our **chdev_exit** function should consist of the following steps:\n",
        "\n",
        "1.  destroy each minor device \n",
        "2.  unregister created devices from system"
      ],
      "metadata": {
        "id": "1kEQ59IjHCFs"
      }
    },
    {
      "cell_type": "code",
      "source": [
        "static void __exit chdev_exit(void)\n",
        "{\n",
        "    int i;\n",
        " \n",
        "    // delete each minor device\n",
        "    for (i = 0; i < MAX_DEVICE_NUM; i++) {\n",
        "        // 8. TODO: add the right parameters to the device_destroy function\n",
        "        device_destroy(..., ...);\n",
        "    }\n",
        "\n",
        "    class_unregister(chdev_class);\n",
        "    class_destroy(chdev_class);\n",
        "\n",
        "    unregister_chrdev_region(MKDEV(dev_major, 0), MINORMASK);\n",
        "}\n"
      ],
      "metadata": {
        "id": "UoPwKD1GGxJY"
      },
      "execution_count": null,
      "outputs": []
    },
    {
      "cell_type": "markdown",
      "source": [
        "Now let's define the functions we previously declared to the *struct file_operations*. A driver for a device is the interface between an application and hardware. As a result, we often have to access a given user-space driver device. Accessing process address space can not be done directly (by de-referencing a user-space pointer).\n",
        "\n",
        "Access is granted using the following functions:\n",
        "\n",
        "\n",
        "\n",
        "1.   **copy_to_user** copies n bytes from the kernel-space, from the address referenced by *from* in user-space to the address referenced by *to*;\n",
        "2.   **copy_from_user** copies n bytes from user-space from the address referenced by *from* in kernel-space to the address referenced by *to*.\n",
        "\n",
        "\n"
      ],
      "metadata": {
        "id": "oNmHawkKHlGj"
      }
    },
    {
      "cell_type": "code",
      "source": [
        "static int chdev_open(struct inode *inode, struct file *file)\n",
        "{\n",
        "    printk(\"CHDEV: Device open\\n\");\n",
        "    return 0;\n",
        "}\n",
        "\n",
        "static int chdev_release(struct inode *inode, struct file *file)\n",
        "{\n",
        "    printk(\"CHDEV: Device close\\n\");\n",
        "    return 0;\n",
        "}\n",
        "\n",
        "static long chdev_ioctl(struct file *file, unsigned int cmd, unsigned long arg)\n",
        "{\n",
        "    printk(\"CHDEV: Device ioctl\\n\");\n",
        "    return 0;\n",
        "}\n",
        "\n",
        "static ssize_t chdev_read(struct file *file, char __user *buf, size_t count, loff_t *offset)\n",
        "{\n",
        "    uint8_t *data = \"Hello from the kernel world!\\n\";\n",
        "    size_t datalen = strlen(data);\n",
        "\n",
        "    printk(\"Reading device: %d\\n\", MINOR(file->f_path.dentry->d_inode->i_rdev));\n",
        "\n",
        "    if (count > datalen) {\n",
        "        count = datalen;\n",
        "    }\n",
        "\n",
        "    if (copy_to_user(buf, data, count)) {\n",
        "        return -EFAULT;\n",
        "    }\n",
        "\n",
        "    return count;\n",
        "}\n",
        "\n",
        "static ssize_t chdev_write(struct file *file, const char __user *buf, size_t count, loff_t *offset)\n",
        "{\n",
        "    size_t maxdatalen = 15, ncopied;\n",
        "    uint8_t databuf[maxdatalen];\n",
        "\n",
        "    printk(\"Writing device: %d\\n\", MINOR(file->f_path.dentry->d_inode->i_rdev));\n",
        "\n",
        "    if (count < maxdatalen) {\n",
        "        maxdatalen = count;\n",
        "    }\n",
        " \n",
        "    ncopied = copy_from_user(databuf, buf, maxdatalen);\n",
        "\n",
        "    if (ncopied == 0) {\n",
        "        printk(\"Copied %zd bytes from the user\\n\", maxdatalen);\n",
        "    } else {\n",
        "        printk(\"Couldn't copy %zd bytes from the user\\n\", ncopied);\n",
        "    }\n",
        "\n",
        "    databuf[maxdatalen] = 0;\n",
        "\n",
        "    printk(\"Data from the user: %s\\n\", databuf);\n",
        "\n",
        "    return count;\n",
        "}\n"
      ],
      "metadata": {
        "id": "UkyPLLkjGxpv"
      },
      "execution_count": null,
      "outputs": []
    },
    {
      "cell_type": "markdown",
      "source": [
        "Now we can handle I/O requests. Great!"
      ],
      "metadata": {
        "id": "h81ZgJ8lK1Lg"
      }
    },
    {
      "cell_type": "markdown",
      "source": [
        "Finally, add `MODULE_LICENSE` and `MODULE_AUTHOR`.\n",
        "You may be wondering why do we need this. Check [this](https://tldp.org/LDP/lkmpg/2.6/html/x279.html) out."
      ],
      "metadata": {
        "id": "Ek-6DXkGIhSp"
      }
    },
    {
      "cell_type": "code",
      "source": [
        "MODULE_LICENSE(\"GPL\");\n",
        "MODULE_AUTHOR(\"Your Name Here\");\n",
        "\n",
        "module_init(chdev_init);\n",
        "module_exit(chdev_exit);"
      ],
      "metadata": {
        "id": "P-X0uIlnG0wF"
      },
      "execution_count": null,
      "outputs": []
    },
    {
      "cell_type": "markdown",
      "source": [
        "# Build process\n",
        "\n",
        "Assuming that you wrote your code in a file called `aaltodriver.c` and that you are using the TinyCore9 VM from the previous assignment, we can now start compiling the driver.\n",
        "\n",
        "\n",
        "## The Makefile"
      ],
      "metadata": {
        "id": "Zi76LE3EOmFi"
      }
    },
    {
      "cell_type": "markdown",
      "source": [
        "You can use the following Makefile to build the module we just created. \n",
        "\n",
        "But what is a Makefile, anyway? check [this](https://opensource.com/article/18/8/what-how-makefile) to find out."
      ],
      "metadata": {
        "id": "Fr0EAt0sMLvG"
      }
    },
    {
      "cell_type": "code",
      "source": [
        "BINARY      := aaltodriver\n",
        "KERNEL      := /lib/modules/$(shell uname -r)/build\n",
        "ARCH        := x86\n",
        "C_FLAGS     := -Wall\n",
        "KMOD_DIR    := $(shell pwd)\n",
        "TARGET_PATH := /lib/modules/$(shell uname -r)/kernel/drivers/char\n",
        "\n",
        "ccflags-y += $(C_FLAGS)\n",
        "\n",
        "obj-m += $(BINARY).o\n",
        "\n",
        "$(BINARY).ko:\n",
        "    make -C $(KERNEL) M=$(KMOD_DIR) modules\n",
        "\n",
        "install:\n",
        "    cp $(BINARY).ko $(TARGET_PATH)\n",
        "    depmod -a\n",
        "\n",
        "uninstall:\n",
        "    rm $(TARGET_PATH)/$(BINARY).ko\n",
        "    depmod -a\n",
        "\n",
        "clean:\n",
        "    make -C $(KERNEL) M=$(KMOD_DIR) clean"
      ],
      "metadata": {
        "id": "DKBHZWIEktYo"
      },
      "execution_count": null,
      "outputs": []
    },
    {
      "cell_type": "markdown",
      "source": [
        "## Module building and installing"
      ],
      "metadata": {
        "id": "aJ_SGgs0pdxZ"
      }
    },
    {
      "cell_type": "markdown",
      "source": [
        "\n",
        "* The following command builds and loads the module we just created. \n",
        "\n",
        "  9. TODO: Replace the ... with the right command parameter.\n",
        "```\n",
        "$ make && sudo insmod ...\n",
        "```\n",
        "\n",
        "  The **insmod** (insert module) command is a simple program to insert a module into the Linux Kernel. Similarly, the **rmmod** (remove module) command unloads the module.\n",
        "\n",
        "  Tip: try to run \n",
        "```\n",
        "$ lsmod\n",
        "```\n",
        "to check that your module was successfully loaded (should be called driver).\n"
      ],
      "metadata": {
        "id": "g2GR7XyXptRH"
      }
    },
    {
      "cell_type": "code",
      "source": [
        "!lsmod"
      ],
      "metadata": {
        "colab": {
          "base_uri": "https://localhost:8080/"
        },
        "id": "rZ4XbVzYaQbh",
        "outputId": "ef6ef833-73a2-4523-c3ad-41acd5038585"
      },
      "execution_count": null,
      "outputs": [
        {
          "output_type": "stream",
          "name": "stdout",
          "text": [
            "Module                  Size  Used by\n",
            "veth                   28672  0\n",
            "xt_nat                 16384  10\n",
            "cls_u32                24576  2\n",
            "sch_htb                28672  1\n",
            "xt_MASQUERADE          16384  1\n",
            "xt_addrtype            16384  2\n",
            "iptable_nat            16384  3\n",
            "nf_nat                 61440  3 xt_nat,iptable_nat,xt_MASQUERADE\n",
            "br_netfilter           24576  0\n",
            "xt_state               16384  0\n",
            "aesni_intel           368640  0\n",
            "glue_helper            20480  1 aesni_intel\n",
            "crypto_simd            16384  1 aesni_intel\n",
            "cryptd                 24576  1 crypto_simd\n",
            "virtio_balloon         24576  0\n",
            "loadpin_trigger        12288  0\n",
            "fuse                  147456  1\n",
            "configfs               40960  1\n"
          ]
        }
      ]
    },
    {
      "cell_type": "markdown",
      "source": [
        "* Check created devices using ls command. \n",
        "\n",
        "  10. TODO: Replace the ... with the right path in the `/dev` folder to both of your devices **at the same time** (consider using [wildcards](https://https://linuxhint.com/bash_wildcard_tutorial/) in file expressions).\n",
        "```\n",
        "$ ls -l ...\n",
        "```"
      ],
      "metadata": {
        "id": "45q9lJVqBm-7"
      }
    },
    {
      "cell_type": "markdown",
      "source": [
        "* Check build and load messages. \n",
        "\n",
        "  11. TODO: Read the device files from your `/dev `folder by replacing ... with the right path to either of the devices. \n",
        "```\n",
        "$ cat ...\n",
        "```\n",
        "\n"
      ],
      "metadata": {
        "id": "wvcbEGYfKvtI"
      }
    },
    {
      "cell_type": "markdown",
      "source": [
        "# Testing the Driver\n",
        "\n",
        "We will test the read and write functions implemented above.\n",
        "\n",
        "Character devices are presented as special files in a `/dev` directory and support direct reading and writing of any data, byte by byte, like a stream. Most of the pseudo-devices in /dev are character devices: serial ports, modems, sound, and video adapters, keyboards, etc. \n",
        "\n",
        "  12. TODO: write the following message: \"Writing character device drivers is not that hard!\" from device 0 and then read. After this, write the following message: \"I do agree!\" from device 1 and then read. \n",
        "\n",
        "  **Hint**: You may want to use the [dmesg](https://phoenixnap.com/kb/dmesg-linux) command for this task."
      ],
      "metadata": {
        "id": "-qYpGT8WNrcn"
      }
    }
  ]
}