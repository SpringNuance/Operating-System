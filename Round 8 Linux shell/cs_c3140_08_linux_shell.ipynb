{
  "nbformat": 4,
  "nbformat_minor": 0,
  "metadata": {
    "colab": {
      "provenance": [],
      "collapsed_sections": [
        "VtqBbfSQwZCe",
        "kjISIR9cAF-m",
        "7kEkuwE7DVxD",
        "2AnUTvHbFI8s",
        "dk_Kd-7NNB-3",
        "Ihri1ar0ivel"
      ]
    },
    "kernelspec": {
      "name": "python3",
      "display_name": "Python 3"
    },
    "language_info": {
      "name": "python"
    }
  },
  "cells": [
    {
      "cell_type": "markdown",
      "source": [
        "![image.png](data:image/png;base64,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)"
      ],
      "metadata": {
        "id": "k15z3lknvMRO"
      }
    },
    {
      "cell_type": "markdown",
      "source": [
        "#Assignment 8: Exploring the Linux Shell\n",
        "\n",
        "The Linux shell is not something completely new in this course. You already used the shell in the previous assignments, where shell commands were already provided to you. In this assignment, we will take a step back and look at basics around using the Linux shell (some of the commands apply to the [bash shell in MacOS](https://www.macinstruct.com/tutorials/how-to-set-bash-as-the-default-shell-on-mac/), too). For more insights about the Bash shell, we recommend the following tutorials:\n",
        "* https://www.codecademy.com/catalog/language/bash\n",
        "* https://linuxcommand.org/tlcl.php\n",
        "* https://mywiki.wooledge.org/BashGuide\n",
        "\n",
        "**Note**: This assignment can be completed in a number of ways:\n",
        "* Using this Google Colab notebook (please save your own copy and work on that, instructions below) <- easiest\n",
        "* Using your own Linux machine (any distro)\n",
        "* Using a Linux virtual machine (e.g. the TinyOS VM from Assignments 5-6)\n",
        "* Over an SSH connection to [Aalto shell servers](https://www.aalto.fi/en/services/linux-shell-servers-at-aalto)\n",
        "\n",
        "Please feel free to use the option that works best for you. Please enter the results in the [A+ platform](https://plus.cs.aalto.fi/accounts/login/?next=/os/2022/). For any questions please refer to the [Zulip chat of the OS course](https://operatingsystems.zulip.aalto.fi/).\n",
        "\n",
        "**Note**: The [Exercise: Shell Scripts and Signals](#scrollTo=ERqhqHZfTMAs) part will require you to complete a set of `TODOs`. The answers should be reported in the A+ platform.\n",
        "\n",
        "**Note**: The [Exercise: Shell Scripts and Signals](#scrollTo=ERqhqHZfTMAs) exercises require you to use two terminal windows for a better understanding of how signals work."
      ],
      "metadata": {
        "id": "V2GMVV4UvQOG"
      }
    },
    {
      "cell_type": "markdown",
      "source": [
        ">[Assignment 8: Exploring the Linux Shell](#scrollTo=V2GMVV4UvQOG)\n",
        "\n",
        ">[What is the shell?](#scrollTo=GUNYl5f9y5fm)\n",
        "\n",
        ">>[Man Pages](#scrollTo=XI39TyK1_qUC)\n",
        "\n",
        ">>[Looking around the filesystem](#scrollTo=VtqBbfSQwZCe)\n",
        "\n",
        ">>[Moving around the filesystem](#scrollTo=kjISIR9cAF-m)\n",
        "\n",
        ">>[Printing things out: echo and $VARIABLES](#scrollTo=7kEkuwE7DVxD)\n",
        "\n",
        ">>[Working with files](#scrollTo=2AnUTvHbFI8s)\n",
        "\n",
        ">>[Combining commands](#scrollTo=dk_Kd-7NNB-3)\n",
        "\n",
        ">>[Pipes](#scrollTo=Ihri1ar0ivel)\n",
        "\n",
        ">[Shell Scripts](#scrollTo=Y_zfqe3QKaUI)\n",
        "\n",
        ">>[What is a bash script?](#scrollTo=aZPi4ixasy46)\n",
        "\n",
        ">>[A first bash script](#scrollTo=Gj4WdwRRs3IJ)\n",
        "\n",
        ">[Signals](#scrollTo=pyp9f-QwOmtv)\n",
        "\n",
        ">[Exercise: Shell Scripts and Signals](#scrollTo=ERqhqHZfTMAs)\n",
        "\n"
      ],
      "metadata": {
        "colab_type": "toc",
        "id": "NViKASjUveQU"
      }
    },
    {
      "cell_type": "markdown",
      "source": [
        "**Note**: If you are unsure how to use Google Colab for running code/scripts, please refer to `How to use Google Colab` section from Assignment 4 :\n",
        "https://colab.research.google.com/drive/1X1xFIkDCyuQuiwv9RoKnWHh6xuCELzAj?usp=sharing#scrollTo=MvYnYMkSlc05\n",
        "\n"
      ],
      "metadata": {
        "id": "flVFRQGKwzSd"
      }
    },
    {
      "cell_type": "markdown",
      "source": [
        "# What is the shell?\n",
        "\n",
        "GNU/Linux is one of the most widely used Operating Systems, especially in the domains of embedded systems, IoT, and servers. Everything from cloud servers to washing machines run it. The primary aspect of Linux \"knowledge\" is knowing how to work with the Shell. As the shell is not a graphical interface, it takes time and some memorization to learn.\n",
        "\n",
        "We can view the shell as a program where users can type commands. It is possible to navigate around the filesystem, write code, modify devices, and even execute compiled programs. \n",
        "\n",
        "The most popular Unix shell is Bash: https://en.wikipedia.org/wiki/Bash_(Unix_shell) . It is the default shell in most modern implementations of Unix and Linux distributions. \n",
        "\n"
      ],
      "metadata": {
        "id": "GUNYl5f9y5fm"
      }
    },
    {
      "cell_type": "markdown",
      "source": [
        "## 0. Man Pages\n",
        "\n",
        "**Hint: How do we know everything a command is capable of? Googling?**\n",
        "\n",
        "There is a better way: when you are in the shell you can look at a command's dodcumentation right there and then, by preceding the command with 'man' (e.g. 'man ls'). Indeed, the shell comes in with all manuals pre-packaged!"
      ],
      "metadata": {
        "id": "XI39TyK1_qUC"
      }
    },
    {
      "cell_type": "markdown",
      "source": [
        "## 1. Looking around the filesystem\n",
        "\n",
        "At any given point while using the shell, we are located somewhere in the Linux Filesystem.\n",
        "\n"
      ],
      "metadata": {
        "id": "VtqBbfSQwZCe"
      }
    },
    {
      "cell_type": "markdown",
      "source": [
        "This is also known as the \"working directory\". Luckily, there is a handy command for seeing where we are, so we never get lost:\n",
        "```\n",
        "pwd\n",
        "```\n",
        "This command will display the exact directory we are currently in. Try it out for yourself:"
      ],
      "metadata": {
        "id": "8dvBjXwZpkyr"
      }
    },
    {
      "cell_type": "code",
      "source": [
        "# Where are we?\n",
        "!pwd"
      ],
      "metadata": {
        "id": "KcQSxTKH9UhI",
        "colab": {
          "base_uri": "https://localhost:8080/"
        },
        "outputId": "9c7a708a-80b4-4e5d-c050-0b4f02362845"
      },
      "execution_count": null,
      "outputs": [
        {
          "output_type": "stream",
          "name": "stdout",
          "text": [
            "/content\n"
          ]
        }
      ]
    },
    {
      "cell_type": "markdown",
      "source": [
        "And in fact, the command itself tells us a lot about what it does: 'pwd' stands for 'present working directory'.\n",
        "Speaking of conveniently named commands, every time we are in the shell, we will be known as a user of the system. And every user has a name (e.g. admin or root). In case you are unsure of what user you are logged in as, you can use the command:\n",
        "```\n",
        "whoami\n",
        "```"
      ],
      "metadata": {
        "id": "1J6rOi-V9aVz"
      }
    },
    {
      "cell_type": "code",
      "source": [
        "# Who am I?\n",
        "!whoami"
      ],
      "metadata": {
        "id": "UDiZ6ggJ-ZIz",
        "colab": {
          "base_uri": "https://localhost:8080/"
        },
        "outputId": "784db39e-2097-449e-f25d-653ea8e66f0a"
      },
      "execution_count": null,
      "outputs": [
        {
          "output_type": "stream",
          "name": "stdout",
          "text": [
            "root\n"
          ]
        }
      ]
    },
    {
      "cell_type": "markdown",
      "source": [
        "Once we know where and who we are, we can look around the environment. This is perhaps the most used Linux shell command:\n",
        "```\n",
        "ls\n",
        "```"
      ],
      "metadata": {
        "id": "a_6qoW45-nrr"
      }
    },
    {
      "cell_type": "code",
      "source": [
        "# List the current directory contents\n",
        "!ls"
      ],
      "metadata": {
        "id": "QhwPxx29-8Ce",
        "colab": {
          "base_uri": "https://localhost:8080/"
        },
        "outputId": "28403bd1-14d7-4ed4-a97b-a0abf25ac2f3"
      },
      "execution_count": null,
      "outputs": [
        {
          "output_type": "stream",
          "name": "stdout",
          "text": [
            "sample_data\n"
          ]
        }
      ]
    },
    {
      "cell_type": "markdown",
      "source": [
        "A lot of shell commands are more powerful than they seem. They can be passed \"flags\" to make them do extra stuff, or do it in a more presentable manner. Generally, a flag will be a letter or a codeword preceded by a dash (-).\\\n",
        "Let's see what more 'ls' can do: "
      ],
      "metadata": {
        "id": "AlUlii4E_Tq_"
      }
    },
    {
      "cell_type": "code",
      "source": [
        "# List the contents with some more information\n",
        "!ls -l"
      ],
      "metadata": {
        "id": "IpJGY87O_CrH",
        "colab": {
          "base_uri": "https://localhost:8080/"
        },
        "outputId": "b8b50e54-9885-449f-bf4a-6e75a38e95c6"
      },
      "execution_count": null,
      "outputs": [
        {
          "output_type": "stream",
          "name": "stdout",
          "text": [
            "total 4\n",
            "drwxr-xr-x 1 root root 4096 Nov 15 14:31 sample_data\n"
          ]
        }
      ]
    },
    {
      "cell_type": "markdown",
      "source": [],
      "metadata": {
        "id": "urEVeGVIphzI"
      }
    },
    {
      "cell_type": "markdown",
      "source": [
        "## 2. Moving around the filesystem\n",
        "\n",
        "So we know how to look around the environment. But how do we move through the filesystem? Let's introduce some more essential commands.\n"
      ],
      "metadata": {
        "id": "kjISIR9cAF-m"
      }
    },
    {
      "cell_type": "markdown",
      "source": [
        "```\n",
        "cd\n",
        "```\n",
        "'cd' stands for 'change directory' and does exactly that - it changes our current location to a directory. Moreover, the Linux filesystem has 2 special symbols that can be found at virtually every directory:\n",
        "```\n",
        "A pointer to the current directory: .\n",
        "A pointer to the top-level directory above: ..\n",
        "```\n",
        "Indeed, you must have seen those 2 symbols when running 'ls -l'\\\n",
        "Let's put all of this into context (you will have to run the following commands in sequence):"
      ],
      "metadata": {
        "id": "W8U3uZPspbKH"
      }
    },
    {
      "cell_type": "code",
      "source": [
        "# Create a new directory in the present directory\n",
        "!mkdir new_dir"
      ],
      "metadata": {
        "id": "4CIPSIv_CM0a"
      },
      "execution_count": null,
      "outputs": []
    },
    {
      "cell_type": "code",
      "source": [
        "# Check directory was created\n",
        "!ls -l"
      ],
      "metadata": {
        "colab": {
          "base_uri": "https://localhost:8080/"
        },
        "id": "JYlQr4YjCTv2",
        "outputId": "20ad71ab-723b-4252-9d29-3479858166f5"
      },
      "execution_count": null,
      "outputs": [
        {
          "output_type": "stream",
          "name": "stdout",
          "text": [
            "total 8\n",
            "drwxr-xr-x 2 root root 4096 Nov 17 09:00 new_dir\n",
            "drwxr-xr-x 1 root root 4096 Nov 15 14:31 sample_data\n"
          ]
        }
      ]
    },
    {
      "cell_type": "code",
      "source": [
        "# Let's change to the new dir\n",
        "%cd new_dir"
      ],
      "metadata": {
        "id": "g8hpf4yyCXnI",
        "colab": {
          "base_uri": "https://localhost:8080/"
        },
        "outputId": "636b414f-0a1a-4520-d264-06248483a5a6"
      },
      "execution_count": null,
      "outputs": [
        {
          "output_type": "stream",
          "name": "stdout",
          "text": [
            "/content/new_dir\n"
          ]
        }
      ]
    },
    {
      "cell_type": "code",
      "source": [
        "# Are we there?\n",
        "!pwd"
      ],
      "metadata": {
        "id": "3C1aJz80C1LT",
        "colab": {
          "base_uri": "https://localhost:8080/"
        },
        "outputId": "ecbc3072-f1e6-4545-fbe1-e3358dadc855"
      },
      "execution_count": null,
      "outputs": [
        {
          "output_type": "stream",
          "name": "stdout",
          "text": [
            "/content/new_dir\n"
          ]
        }
      ]
    },
    {
      "cell_type": "code",
      "source": [
        "# Is there anything inside? (we didn't put anything in, but there must be pointers to itself and the directory above)\n",
        "!ls -l"
      ],
      "metadata": {
        "id": "vlVBKEGeCfyE",
        "colab": {
          "base_uri": "https://localhost:8080/"
        },
        "outputId": "0a7985c7-df42-49bd-ca44-8bbe9beec3c5"
      },
      "execution_count": null,
      "outputs": [
        {
          "output_type": "stream",
          "name": "stdout",
          "text": [
            "total 0\n"
          ]
        }
      ]
    },
    {
      "cell_type": "code",
      "source": [
        "# Let's go back to the directory above\n",
        "%cd ..\n",
        "# (we just change directory to the pointer already pointing above)"
      ],
      "metadata": {
        "id": "pe41af5fCpxm",
        "colab": {
          "base_uri": "https://localhost:8080/"
        },
        "outputId": "72c3ccb8-11eb-4987-d8ba-eb77bfdfb9b2"
      },
      "execution_count": null,
      "outputs": [
        {
          "output_type": "stream",
          "name": "stdout",
          "text": [
            "/content\n"
          ]
        }
      ]
    },
    {
      "cell_type": "code",
      "source": [
        "# Are we back?\n",
        "!pwd"
      ],
      "metadata": {
        "id": "a4COIDoYC6IJ",
        "colab": {
          "base_uri": "https://localhost:8080/"
        },
        "outputId": "39899414-ca5e-41d2-d633-508f8da112f4"
      },
      "execution_count": null,
      "outputs": [
        {
          "output_type": "stream",
          "name": "stdout",
          "text": [
            "/content\n"
          ]
        }
      ]
    },
    {
      "cell_type": "code",
      "source": [
        "# Let's remove the directory we just created\n",
        "!rmdir new_dir"
      ],
      "metadata": {
        "id": "4kRYS7kfC91f"
      },
      "execution_count": null,
      "outputs": []
    },
    {
      "cell_type": "markdown",
      "source": [
        "## 3. Printing things out: echo and $VARIABLES\n",
        "We are now familiar with what the shell is and how to run commands. And we've learned some useful commands too. However, what happens to our commands when we enter them? They answer is that they get \"interpreted\" by the shell and executed. What if we wanted to just print them out? Or just print any message out?\n",
        "\n"
      ],
      "metadata": {
        "id": "7kEkuwE7DVxD"
      }
    },
    {
      "cell_type": "markdown",
      "source": [
        "\n",
        "Fortunately just like with everything else in the Linux shell, there is a command for that!\n",
        "```\n",
        "echo\n",
        "```"
      ],
      "metadata": {
        "id": "--5azdMoptFV"
      }
    },
    {
      "cell_type": "code",
      "source": [
        "# Where are we?\n",
        "!pwd"
      ],
      "metadata": {
        "id": "x3-zQ4hAD9Z-",
        "colab": {
          "base_uri": "https://localhost:8080/"
        },
        "outputId": "c70ab595-97fa-4cfe-bcf4-7a982e50cb23"
      },
      "execution_count": null,
      "outputs": [
        {
          "output_type": "stream",
          "name": "stdout",
          "text": [
            "/content\n"
          ]
        }
      ]
    },
    {
      "cell_type": "code",
      "source": [
        "# Just print the command, don't run it\n",
        "!echo pwd"
      ],
      "metadata": {
        "id": "IeHV5XmlECjK",
        "colab": {
          "base_uri": "https://localhost:8080/"
        },
        "outputId": "54949496-6b41-4cf4-f631-91878ecf27a2"
      },
      "execution_count": null,
      "outputs": [
        {
          "output_type": "stream",
          "name": "stdout",
          "text": [
            "pwd\n"
          ]
        }
      ]
    },
    {
      "cell_type": "markdown",
      "source": [
        "Obviously, printing out commands is not very useful. Echo is more frequently used to show us variable - shell variables! Now, shell variables, just like variables in any other programming language, are symbolic pointers to a piece of information that we frequently need to access.\n",
        "\n",
        "When you are in the Linux shell, there is one variable that will always exist, and that is the \"home directory\" variable HOME. Let's try printing it out (pay attention to the syntax):"
      ],
      "metadata": {
        "id": "fe5kKcHyEJel"
      }
    },
    {
      "cell_type": "code",
      "source": [
        "# Print out HOME\n",
        "!echo $HOME"
      ],
      "metadata": {
        "id": "J2En6yAVEsor",
        "colab": {
          "base_uri": "https://localhost:8080/"
        },
        "outputId": "2c9a3a64-08b7-4159-856d-21131c3a9d5f"
      },
      "execution_count": null,
      "outputs": [
        {
          "output_type": "stream",
          "name": "stdout",
          "text": [
            "/root\n"
          ]
        }
      ]
    },
    {
      "cell_type": "markdown",
      "source": [
        "That's right - the shell knows HOME is a variable as it's preceded by a dollar sign ($). Also, in shell scripting, variables are conventionally always in CAPITAL LETTERS."
      ],
      "metadata": {
        "id": "Rdrdm4fiExzv"
      }
    },
    {
      "cell_type": "markdown",
      "source": [
        "## 4. Working with files\n",
        "Most tasks you'd have to complete in the shell would involve files: text files, csv, source code etc. So let's look at how to work with those.\n",
        "\n",
        "\n"
      ],
      "metadata": {
        "id": "2AnUTvHbFI8s"
      }
    },
    {
      "cell_type": "markdown",
      "source": [
        "Creating a new file in the shell is easy (easier than right-clicking with the mouse if File Explorer). We can use a new command:\n",
        "```\n",
        "touch\n",
        "```\n",
        "Let's try it out:"
      ],
      "metadata": {
        "id": "wrUehiT-qKDe"
      }
    },
    {
      "cell_type": "code",
      "source": [
        "# Create a new file\n",
        "!touch foo.txt"
      ],
      "metadata": {
        "id": "8XiB9rfRFspC"
      },
      "execution_count": null,
      "outputs": []
    },
    {
      "cell_type": "code",
      "source": [
        "# Is it there?\n",
        "!ls"
      ],
      "metadata": {
        "id": "pJVfaU4aFy_s",
        "colab": {
          "base_uri": "https://localhost:8080/"
        },
        "outputId": "18ec0f87-fe9e-470e-ec90-3f896a7cf289"
      },
      "execution_count": null,
      "outputs": [
        {
          "output_type": "stream",
          "name": "stdout",
          "text": [
            "foo.txt  sample_data\n"
          ]
        }
      ]
    },
    {
      "cell_type": "markdown",
      "source": [
        "We already know how to print to the console. Why not print it out to a file? In the shell, you can 're-direct' command output away from to console, into files:"
      ],
      "metadata": {
        "id": "zty33LgCIxfZ"
      }
    },
    {
      "cell_type": "code",
      "source": [
        "# Create a new text file with the text \"Hello from file\"\n",
        "!echo Hello from file >> hello.txt"
      ],
      "metadata": {
        "id": "AYWzuDVMJM8E"
      },
      "execution_count": null,
      "outputs": []
    },
    {
      "cell_type": "code",
      "source": [
        "# Is it there?\n",
        "!ls"
      ],
      "metadata": {
        "id": "E2xzV7rOJcTT",
        "colab": {
          "base_uri": "https://localhost:8080/"
        },
        "outputId": "4a3339ee-ce22-4b45-ab45-7f36406a85ef"
      },
      "execution_count": null,
      "outputs": [
        {
          "output_type": "stream",
          "name": "stdout",
          "text": [
            "foo.txt  hello.txt  sample_data\n"
          ]
        }
      ]
    },
    {
      "cell_type": "markdown",
      "source": [
        "So we have our two files now: one is empty, the other one (hopefully) has some text in it. Can we check that?\n",
        "\n",
        "In the File Explorer, you would usually double-click the file to look at it's contents. But we can also do that in the Linux shell. There are many ways to do so:\n",
        "1. Look at the whole contents: `cat`\n",
        "2. Look only at the start: `head`\n",
        "3. Look only at the end: `tail`\n",
        "4. Look at the whole contents, but interactively page-by-page: `less`\n"
      ],
      "metadata": {
        "id": "orY6ZhQ7JhUw"
      }
    },
    {
      "cell_type": "code",
      "source": [
        "# Look at hello.txt\n",
        "!cat hello.txt"
      ],
      "metadata": {
        "id": "hzRDJ1LlKjGs",
        "colab": {
          "base_uri": "https://localhost:8080/"
        },
        "outputId": "75565ce3-c02c-4ae5-b007-1bd522ab9976"
      },
      "execution_count": null,
      "outputs": [
        {
          "output_type": "stream",
          "name": "stdout",
          "text": [
            "Hello from file\n"
          ]
        }
      ]
    },
    {
      "cell_type": "code",
      "source": [
        "# Look at foo.txt\n",
        "!cat foo.txt\n",
        "# Empty?"
      ],
      "metadata": {
        "id": "P5XogWfdLGYV"
      },
      "execution_count": null,
      "outputs": []
    },
    {
      "cell_type": "code",
      "source": [
        "# Write 'Hello' to it 10 times\n",
        "!seq 10 | sed \"c Hello\" >> foo.txt\n",
        "# What's in there now?\n",
        "!cat foo.txt"
      ],
      "metadata": {
        "id": "wEUPSaDXLRSA",
        "colab": {
          "base_uri": "https://localhost:8080/"
        },
        "outputId": "51b91b18-5202-4c5e-fb67-97936ee13005"
      },
      "execution_count": null,
      "outputs": [
        {
          "output_type": "stream",
          "name": "stdout",
          "text": [
            "Hello\n",
            "Hello\n",
            "Hello\n",
            "Hello\n",
            "Hello\n",
            "Hello\n",
            "Hello\n",
            "Hello\n",
            "Hello\n",
            "Hello\n"
          ]
        }
      ]
    },
    {
      "cell_type": "code",
      "source": [
        "# Let's look at the first 5 lines only\n",
        "!head -n 5 foo.txt"
      ],
      "metadata": {
        "id": "wrc_aUw8LhGp",
        "colab": {
          "base_uri": "https://localhost:8080/"
        },
        "outputId": "34525c06-e4e6-47b0-8a5c-d5a4be1fac5f"
      },
      "execution_count": null,
      "outputs": [
        {
          "output_type": "stream",
          "name": "stdout",
          "text": [
            "Hello\n",
            "Hello\n",
            "Hello\n",
            "Hello\n",
            "Hello\n"
          ]
        }
      ]
    },
    {
      "cell_type": "markdown",
      "source": [
        "**Hint: We used a few more advanced commands. You can read more about them from the respective manuals (e.g. 'man head')**"
      ],
      "metadata": {
        "id": "eUFmKqZBLmAY"
      }
    },
    {
      "cell_type": "markdown",
      "source": [
        "## 5. Combining commands\n",
        "Shell commands are very powerful. But sometimes our task is more complex and we need to run a few of them in sequence. Running them one after the other takes time and what if some fail?\\\n",
        "Luckily, the Linux shell allows us to chain commands up in a sequence. There are multiple operators we can use:\n",
        "```\n",
        "&& - runs a command only if the previous one succeeded (like an AND)\n",
        "|| - runs a command only if the previous one failed (like an OR)\n",
        ";  - runs a command regardless of whether the previous one succeeded or failed (like lines of code in C)\n",
        "```"
      ],
      "metadata": {
        "id": "dk_Kd-7NNB-3"
      }
    },
    {
      "cell_type": "code",
      "source": [
        "# Let's create a new directory followed by another one\n",
        "!ls\n",
        "!mkdir dir_a && mkdir dir_b\n",
        "!ls"
      ],
      "metadata": {
        "id": "codEgTGJOR9k",
        "colab": {
          "base_uri": "https://localhost:8080/"
        },
        "outputId": "2a2c6668-dfb0-4dfe-c63c-450c0f2d5251"
      },
      "execution_count": null,
      "outputs": [
        {
          "output_type": "stream",
          "name": "stdout",
          "text": [
            "foo.txt  hello.txt  sample_data\n",
            "dir_a  dir_b  foo.txt  hello.txt  sample_data\n"
          ]
        }
      ]
    },
    {
      "cell_type": "code",
      "source": [
        "# Let's see if this works when directory creation fails\n",
        "!ls\n",
        "!mkdir dir_b && mkdir dir_c\n",
        "!ls"
      ],
      "metadata": {
        "id": "wcpmZ_qyO14r",
        "colab": {
          "base_uri": "https://localhost:8080/"
        },
        "outputId": "266c3ac9-86c9-4888-9510-6939d1c714f5"
      },
      "execution_count": null,
      "outputs": [
        {
          "output_type": "stream",
          "name": "stdout",
          "text": [
            "dir_a  dir_b  foo.txt  hello.txt  sample_data\n",
            "mkdir: cannot create directory ‘dir_b’: File exists\n",
            "dir_a  dir_b  foo.txt  hello.txt  sample_data\n"
          ]
        }
      ]
    },
    {
      "cell_type": "code",
      "source": [
        "# Let's try again\n",
        "!ls\n",
        "!mkdir dir_b; mkdir dir_c\n",
        "!ls"
      ],
      "metadata": {
        "id": "5yYFXYJfPlaz",
        "colab": {
          "base_uri": "https://localhost:8080/"
        },
        "outputId": "46b393a2-dada-4cd4-e7af-e4f19be6457c"
      },
      "execution_count": null,
      "outputs": [
        {
          "output_type": "stream",
          "name": "stdout",
          "text": [
            "dir_a  dir_b  foo.txt  hello.txt  sample_data\n",
            "mkdir: cannot create directory ‘dir_b’: File exists\n",
            "dir_a  dir_b  dir_c  foo.txt  hello.txt  sample_data\n"
          ]
        }
      ]
    },
    {
      "cell_type": "markdown",
      "source": [
        "## 6. Pipes\n",
        "We all know what pipes are in plumbing. Hollow cyllinders allowing a liquid to flow from one end to the other. The Linux shell has the same concept - pipes allow the output of one command to be forwarded to another and so on. They are represented by the '|' symbol.\\\n",
        "Let's look at an example:\n",
        "```\n",
        "cat groceries.txt | sort\n",
        "cat grocercies.txt | sort | uniq\n",
        "```\n",
        "Can you guess what the commands above do? Some of them are new, so it might be a good idea to look them up with `man`"
      ],
      "metadata": {
        "id": "Ihri1ar0ivel"
      }
    },
    {
      "cell_type": "code",
      "source": [
        "# Let's set up the text file\n",
        "!printf \"apples\\noranges\\napples\\nbananas\\noranges\\noranges\\npears\\nbroccoli\" >> groceries.txt\n",
        "!cat groceries.txt"
      ],
      "metadata": {
        "id": "1cz-AaeMqA3C",
        "colab": {
          "base_uri": "https://localhost:8080/"
        },
        "outputId": "2ca47dee-23be-423d-c3e0-dd9fc459bf0d"
      },
      "execution_count": null,
      "outputs": [
        {
          "output_type": "stream",
          "name": "stdout",
          "text": [
            "apples\n",
            "oranges\n",
            "apples\n",
            "bananas\n",
            "oranges\n",
            "oranges\n",
            "pears\n",
            "broccoli"
          ]
        }
      ]
    },
    {
      "cell_type": "code",
      "source": [
        "# Let's try out the first \"piped\" command\n",
        "!cat groceries.txt | sort"
      ],
      "metadata": {
        "id": "NxfFHnltqkvX",
        "colab": {
          "base_uri": "https://localhost:8080/"
        },
        "outputId": "87d6a8b2-b2f7-4c0a-fd58-b47dfcb2f1e1"
      },
      "execution_count": null,
      "outputs": [
        {
          "output_type": "stream",
          "name": "stdout",
          "text": [
            "apples\n",
            "apples\n",
            "bananas\n",
            "broccoli\n",
            "oranges\n",
            "oranges\n",
            "oranges\n",
            "pears\n"
          ]
        }
      ]
    },
    {
      "cell_type": "code",
      "source": [
        "# Let's try out the second one\n",
        "!cat groceries.txt | sort | uniq"
      ],
      "metadata": {
        "id": "L-0Ei5Q0rHfv",
        "colab": {
          "base_uri": "https://localhost:8080/"
        },
        "outputId": "74fdf1af-9a9e-4fd8-875e-1e7a9a347b6f"
      },
      "execution_count": null,
      "outputs": [
        {
          "output_type": "stream",
          "name": "stdout",
          "text": [
            "apples\n",
            "bananas\n",
            "broccoli\n",
            "oranges\n",
            "pears\n"
          ]
        }
      ]
    },
    {
      "cell_type": "markdown",
      "source": [
        "Indeed, pipes are a very powerful tool. Here's another example of what the shell is capable of (this won't work in collab so you can only try running it on your own Linux installation):\n",
        "```\n",
        "echo \"Timestamp Time_Delay_ms\" >> ping_delays.csv && ping -c 5 -W 10 -O -D ok1.iperf.comnet-student.eu | grep '64 bytes from\\|no answer yet' | awk '{printf \"%s \", substr($1, 2, 17); if ($9) print substr($9,6); else print \"Inf\"}' >> ping_delays.csv\n",
        "```\n",
        "Any guesses what the above does?\\\n",
        "Here's a short summary:\n",
        "\n",
        "*   Creates a CSV file named \"ping_delays.csv\" with 2 columns: \"Timestamp\" and \"Time_Delay_ms\"\n",
        "*   Runs the \"ping\" Linux utility which sends 5 ICMP packets to the remote iperf server \"ok1.iperf.comnet-student.eu\" with a timeout of 10 seconds\n",
        "*   Scans the output and looks at whether the ICMP packets bounced back\n",
        "*   If a packet came back, its RTT (round trip time) is recorded in the CSV file, on its own row, together with the timestamp of when it came back\n",
        "*   If a packet was dropped, same as above, but with an RTT of Inf (infinity)\n",
        "\n",
        "\n",
        "This is just one example of how pwoerful the Linux shell is. We can analyse our conection to a remote server with a single line.\n",
        "\n"
      ],
      "metadata": {
        "id": "tLt7-B-BrL6R"
      }
    },
    {
      "cell_type": "markdown",
      "source": [
        "# Shell Scripts"
      ],
      "metadata": {
        "id": "Y_zfqe3QKaUI"
      }
    },
    {
      "cell_type": "markdown",
      "source": [
        "\n",
        "A shell script is a text file that contains a line-by-line sequence of commands for a UNIX-based operating system. It is called a shell script because it combines a sequence of commands, that would otherwise have to be typed into the keyboard one at a time, into a single script.\n",
        "\n",
        "A shell script is usually created for command sequences in which a user has a need to use repeatedly in order to save time. Like other programs, the shell script can contain parameters, comments and subcommands that the shell must follow."
      ],
      "metadata": {
        "id": "jmv5K-YuJpBv"
      }
    },
    {
      "cell_type": "markdown",
      "source": [
        "## What is a bash script?\n",
        "\n",
        "Most users prefer to stick with the current default shell. The default shell for many Linux distros is the GNU Bourne-Again Shell (bash).\n",
        "\n",
        "An example of bash script could execute the following sequence\n",
        "* navigate to a certain path\n",
        "* create a folder \n",
        "* spawn a process inside the new folder"
      ],
      "metadata": {
        "id": "aZPi4ixasy46"
      }
    },
    {
      "cell_type": "markdown",
      "source": [
        "## A first bash script\n",
        "\n",
        "We will create a very simple bash script that will output a message. By naming conventions, bash scripts end with a `.sh`. However, bash scripts can run perfectly fine without the sh extension.\n",
        "\n",
        "First, let's create the `.sh` file and check that it is ceated in our current directory."
      ],
      "metadata": {
        "id": "Gj4WdwRRs3IJ"
      }
    },
    {
      "cell_type": "code",
      "source": [
        "!touch first_script.sh && ls"
      ],
      "metadata": {
        "colab": {
          "base_uri": "https://localhost:8080/"
        },
        "id": "6UmzG1DRMSIf",
        "outputId": "a0aa06cb-cffd-49f4-93d1-0bc9b2d2f435"
      },
      "execution_count": null,
      "outputs": [
        {
          "output_type": "stream",
          "name": "stdout",
          "text": [
            "dir_a  dir_c\t\tfoo.txt        hello.txt\n",
            "dir_b  first_script.sh\tgroceries.txt  sample_data\n"
          ]
        }
      ]
    },
    {
      "cell_type": "markdown",
      "source": [
        "Next, let's add some content to the file."
      ],
      "metadata": {
        "id": "2zyOVgw0NBWh"
      }
    },
    {
      "cell_type": "code",
      "source": [
        "!printf \"echo \\\"Hello, the script just ran!\\\"\" >> first_script.sh"
      ],
      "metadata": {
        "id": "mOAgy8_8NLNu"
      },
      "execution_count": null,
      "outputs": []
    },
    {
      "cell_type": "markdown",
      "source": [
        "We will need to set up permissions to run the script we just created. We will modify the file permissions and allow execution of the script by using the command below: "
      ],
      "metadata": {
        "id": "EoLsmEGqNvIz"
      }
    },
    {
      "cell_type": "code",
      "source": [
        "!chmod u+x first_script.sh"
      ],
      "metadata": {
        "id": "UwaS5pHwN-Sy"
      },
      "execution_count": null,
      "outputs": []
    },
    {
      "cell_type": "markdown",
      "source": [
        "After doing this, we should successfully be able to run our script! \n",
        "You can run the script in the following ways:\n",
        "\n",
        "\n",
        "*   `./script_name.sh`\n",
        "*   `bash script_name.sh`\n",
        "\n"
      ],
      "metadata": {
        "id": "EOzvLsE9OHI1"
      }
    },
    {
      "cell_type": "code",
      "source": [
        "! ./first_script.sh"
      ],
      "metadata": {
        "colab": {
          "base_uri": "https://localhost:8080/"
        },
        "id": "XjGuO5uCNptl",
        "outputId": "0089fb9b-be77-4045-d2eb-a0198023b328"
      },
      "execution_count": null,
      "outputs": [
        {
          "output_type": "stream",
          "name": "stdout",
          "text": [
            "Hello, the script just ran!\n"
          ]
        }
      ]
    },
    {
      "cell_type": "markdown",
      "source": [
        "# Signals\n",
        "\n",
        "Signals are short, fast, one-way messages sent to processes such as scripts, programs, and daemons. They let the process know about something that has happened.\n",
        "\n"
      ],
      "metadata": {
        "id": "pyp9f-QwOmtv"
      }
    },
    {
      "cell_type": "markdown",
      "source": [
        "The Linux kernel sends signals to processes about events they need to react to. Well-behaved scripts handle signals elegantly and robustly and can clean up behind themselves even if you hit Ctrl+C. Linux uses a lot of signals, as we shall see, but from a scripting point of view, there’s only a small subset of signals that you’re likely to be interested in. In particular, in non-trivial scripts, signals that tell the script to shut down should be trapped (where possible) and a graceful shutdown performed.\n",
        "\n",
        "For example, scripts that create temporary files or open firewall ports can be given the chance to delete the temporary files or to close the ports before they shut down. If the script just dies the instant it receives the signal, your computer can be left in an unpredictable state.\n",
        "\n",
        "We can use the `trap` command with the -l (list) option to show us the entire list of signals that Linux uses."
      ],
      "metadata": {
        "id": "c51qUvl9uxQQ"
      }
    },
    {
      "cell_type": "code",
      "source": [
        "!man trap"
      ],
      "metadata": {
        "id": "5aATdw1GS7PT",
        "outputId": "9f6abbd9-b099-4ceb-e03b-034fd4be5476",
        "colab": {
          "base_uri": "https://localhost:8080/"
        }
      },
      "execution_count": null,
      "outputs": [
        {
          "output_type": "stream",
          "name": "stdout",
          "text": [
            "TRAP(1POSIX)               POSIX Programmer's Manual              TRAP(1POSIX)\n",
            "\n",
            "P\bPR\bRO\bOL\bLO\bOG\bG\n",
            "       This  manual  page is part of the POSIX Programmer's Manual.  The Linux\n",
            "       implementation of this interface may differ (consult the  corresponding\n",
            "       Linux  manual page for details of Linux behavior), or the interface may\n",
            "       not be implemented on Linux.\n",
            "\n",
            "N\bNA\bAM\bME\bE\n",
            "       trap — trap signals\n",
            "\n",
            "S\bSY\bYN\bNO\bOP\bPS\bSI\bIS\bS\n",
            "       trap _\bn [\b[_\bc_\bo_\bn_\bd_\bi_\bt_\bi_\bo_\bn...]\b]\n",
            "       trap [\b[_\ba_\bc_\bt_\bi_\bo_\bn _\bc_\bo_\bn_\bd_\bi_\bt_\bi_\bo_\bn...]\b]\n",
            "\n",
            "D\bDE\bES\bSC\bCR\bRI\bIP\bPT\bTI\bIO\bON\bN\n",
            "       If the first operand is an unsigned decimal integer,  the  shell  shall\n",
            "       treat all operands as conditions, and shall reset each condition to the\n",
            "       default value. Otherwise, if there are operands, the first  is  treated\n",
            "       as an action and the remaining as conditions.\n",
            "\n",
            "       If  _\ba_\bc_\bt_\bi_\bo_\bn  is '\b'−\b−'\b', the shell shall reset each _\bc_\bo_\bn_\bd_\bi_\bt_\bi_\bo_\bn to the default\n",
            "       value. If _\ba_\bc_\bt_\bi_\bo_\bn is null (\"\b\"\"\b\"), the shell shall  ignore  each  specified\n",
            "       _\bc_\bo_\bn_\bd_\bi_\bt_\bi_\bo_\bn  if  it  arises. Otherwise, the argument _\ba_\bc_\bt_\bi_\bo_\bn shall be read\n",
            "       and executed by the shell when  one  of  the  corresponding  conditions\n",
            "       arises.  The  action  of  _\bt_\br_\ba_\bp shall override a previous action (either\n",
            "       default action or one explicitly set). The value of \"\b\"$\b$?\b?\"\b\" after the _\bt_\br_\ba_\bp\n",
            "       action completes shall be the value it had before _\bt_\br_\ba_\bp was invoked.\n",
            "\n",
            "       The  condition  can be EXIT, 0 (equivalent to EXIT), or a signal speci‐\n",
            "       fied using a symbolic name, without the SIG prefix, as  listed  in  the\n",
            "       tables  of  signal  names  in the _\b<_\bs_\bi_\bg_\bn_\ba_\bl_\b._\bh_\b> header defined in the Base\n",
            "       Definitions volume of POSIX.1‐2008, _\bC_\bh_\ba_\bp_\bt_\be_\br _\b1_\b3, _\bH_\be_\ba_\bd_\be_\br_\bs;  for  example,\n",
            "       HUP,  INT,  QUIT,  TERM.  Implementations may permit names with the SIG\n",
            "       prefix or ignore case in signal names as an extension. Setting  a  trap\n",
            "       for SIGKILL or SIGSTOP produces undefined results.\n",
            "\n",
            "       The  environment  in  which  the shell executes a _\bt_\br_\ba_\bp on EXIT shall be\n",
            "       identical to the environment immediately after the  last  command  exe‐\n",
            "       cuted before the _\bt_\br_\ba_\bp on EXIT was taken.\n",
            "\n",
            "       Each  time _\bt_\br_\ba_\bp is invoked, the _\ba_\bc_\bt_\bi_\bo_\bn argument shall be processed in a\n",
            "       manner equivalent to:\n",
            "\n",
            "           e\bev\bva\bal\bl _\ba_\bc_\bt_\bi_\bo_\bn\n",
            "\n",
            "       Signals that were ignored on entry to a non-interactive shell cannot be\n",
            "       trapped or reset, although no error need be reported when attempting to\n",
            "       do so. An interactive shell may  reset  or  catch  signals  ignored  on\n",
            "       entry.  Traps  shall remain in place for a given shell until explicitly\n",
            "       changed with another _\bt_\br_\ba_\bp command.\n",
            "\n",
            "       When a subshell is entered, traps that are not being ignored  shall  be\n",
            "       set  to  the default actions, except in the case of a command substitu‐\n",
            "       tion containing only a single _\bt_\br_\ba_\bp command, when the traps need not  be\n",
            "       altered.  Implementations  may  check  for this case using only lexical\n",
            "       analysis; for example, if _\b`_\bt_\br_\ba_\bp_\b` and _\b$_\b( _\bt_\br_\ba_\bp _\b-_\b-  _\b)  do  not  alter  the\n",
            "       traps  in the subshell, cases such as assigning _\bv_\ba_\br_\b=_\bt_\br_\ba_\bp and then using\n",
            "       _\b$_\b(_\b$_\bv_\ba_\br_\b) may still alter them. This does not imply that the _\bt_\br_\ba_\bp command\n",
            "       cannot be used within the subshell to set new traps.\n",
            "\n",
            "       The _\bt_\br_\ba_\bp command with no operands shall write to standard output a list\n",
            "       of commands associated with each condition. If the command is  executed\n",
            "       in  a  subshell, the implementation does not perform the optional check\n",
            "       described above for a command substitution  containing  only  a  single\n",
            "       _\bt_\br_\ba_\bp  command,  and  no  _\bt_\br_\ba_\bp commands with operands have been executed\n",
            "       since entry to the subshell, the list shall contain the  commands  that\n",
            "       were  associated  with  each  condition immediately before the subshell\n",
            "       environment was entered.  Otherwise, the list shall  contain  the  com‐\n",
            "       mands currently associated with each condition. The format shall be:\n",
            "\n",
            "           \"\b\"t\btr\bra\bap\bp −\b−−\b− %\b%s\bs %\b%s\bs .\b..\b..\b.\\\b\\n\bn\"\b\",\b, <\b<_\ba_\bc_\bt_\bi_\bo_\bn>, <_\bc_\bo_\bn_\bd_\bi_\bt_\bi_\bo_\bn> ...\n",
            "\n",
            "       The shell shall format the output, including the proper use of quoting,\n",
            "       so that it is suitable for  reinput  to  the  shell  as  commands  that\n",
            "       achieve the same trapping results. For example:\n",
            "\n",
            "           s\bsa\bav\bve\be_\b_t\btr\bra\bap\bps\bs=\b=$\b$(\b(t\btr\bra\bap\bp)\b)\n",
            "           .\b..\b..\b.\n",
            "           e\bev\bva\bal\bl \"\b\"$\b$s\bsa\bav\bve\be_\b_t\btr\bra\bap\bps\bs\"\b\"\n",
            "\n",
            "       XSI-conformant systems also allow numeric signal numbers for the condi‐\n",
            "       tions corresponding to the following signal names:\n",
            "\n",
            "       1     SIGHUP\n",
            "\n",
            "       2     SIGINT\n",
            "\n",
            "       3     SIGQUIT\n",
            "\n",
            "       6     SIGABRT\n",
            "\n",
            "       9     SIGKILL\n",
            "\n",
            "       14    SIGALRM\n",
            "\n",
            "       15    SIGTERM\n",
            "\n",
            "       The _\bt_\br_\ba_\bp special built-in shall conform to the Base Definitions  volume\n",
            "       of POSIX.1‐2008, _\bS_\be_\bc_\bt_\bi_\bo_\bn _\b1_\b2_\b._\b2, _\bU_\bt_\bi_\bl_\bi_\bt_\by _\bS_\by_\bn_\bt_\ba_\bx _\bG_\bu_\bi_\bd_\be_\bl_\bi_\bn_\be_\bs.\n",
            "\n",
            "O\bOP\bPT\bTI\bIO\bON\bNS\bS\n",
            "       None.\n",
            "\n",
            "O\bOP\bPE\bER\bRA\bAN\bND\bDS\bS\n",
            "       See the DESCRIPTION.\n",
            "\n",
            "S\bST\bTD\bDI\bIN\bN\n",
            "       Not used.\n",
            "\n",
            "I\bIN\bNP\bPU\bUT\bT F\bFI\bIL\bLE\bES\bS\n",
            "       None.\n",
            "\n",
            "E\bEN\bNV\bVI\bIR\bRO\bON\bNM\bME\bEN\bNT\bT V\bVA\bAR\bRI\bIA\bAB\bBL\bLE\bES\bS\n",
            "       None.\n",
            "\n",
            "A\bAS\bSY\bYN\bNC\bCH\bHR\bRO\bON\bNO\bOU\bUS\bS E\bEV\bVE\bEN\bNT\bTS\bS\n",
            "       Default.\n",
            "\n",
            "S\bST\bTD\bDO\bOU\bUT\bT\n",
            "       See the DESCRIPTION.\n",
            "\n",
            "S\bST\bTD\bDE\bER\bRR\bR\n",
            "       The standard error shall be used only for diagnostic messages.\n",
            "\n",
            "O\bOU\bUT\bTP\bPU\bUT\bT F\bFI\bIL\bLE\bES\bS\n",
            "       None.\n",
            "\n",
            "E\bEX\bXT\bTE\bEN\bND\bDE\bED\bD D\bDE\bES\bSC\bCR\bRI\bIP\bPT\bTI\bIO\bON\bN\n",
            "       None.\n",
            "\n",
            "E\bEX\bXI\bIT\bT S\bST\bTA\bAT\bTU\bUS\bS\n",
            "       If  the trap name or number is invalid, a non-zero exit status shall be\n",
            "       returned; otherwise, zero shall be returned. For both  interactive  and\n",
            "       non-interactive  shells,  invalid  signal names or numbers shall not be\n",
            "       considered a syntax error and do not cause the shell to abort.\n",
            "\n",
            "C\bCO\bON\bNS\bSE\bEQ\bQU\bUE\bEN\bNC\bCE\bES\bS O\bOF\bF E\bER\bRR\bRO\bOR\bRS\bS\n",
            "       Default.\n",
            "\n",
            "       _\bT_\bh_\be _\bf_\bo_\bl_\bl_\bo_\bw_\bi_\bn_\bg _\bs_\be_\bc_\bt_\bi_\bo_\bn_\bs _\ba_\br_\be _\bi_\bn_\bf_\bo_\br_\bm_\ba_\bt_\bi_\bv_\be_\b.\n",
            "\n",
            "A\bAP\bPP\bPL\bLI\bIC\bCA\bAT\bTI\bIO\bON\bN U\bUS\bSA\bAG\bGE\bE\n",
            "       None.\n",
            "\n",
            "E\bEX\bXA\bAM\bMP\bPL\bLE\bES\bS\n",
            "       Write out a list of all traps and actions:\n",
            "\n",
            "           t\btr\bra\bap\bp\n",
            "\n",
            "       Set a trap so the _\bl_\bo_\bg_\bo_\bu_\bt utility in the directory referred  to  by  the\n",
            "       _\bH_\bO_\bM_\bE environment variable executes when the shell terminates:\n",
            "\n",
            "           t\btr\bra\bap\bp '\b'\"\b\"$\b$H\bHO\bOM\bME\bE\"\b\"/\b/l\blo\bog\bgo\bou\but\bt'\b' E\bEX\bXI\bIT\bT\n",
            "\n",
            "       or:\n",
            "\n",
            "           t\btr\bra\bap\bp '\b'\"\b\"$\b$H\bHO\bOM\bME\bE\"\b\"/\b/l\blo\bog\bgo\bou\but\bt'\b' 0\b0\n",
            "\n",
            "       Unset traps on INT, QUIT, TERM, and EXIT:\n",
            "\n",
            "           t\btr\bra\bap\bp −\b− I\bIN\bNT\bT Q\bQU\bUI\bIT\bT T\bTE\bER\bRM\bM E\bEX\bXI\bIT\bT\n",
            "\n",
            "R\bRA\bAT\bTI\bIO\bON\bNA\bAL\bLE\bE\n",
            "       Implementations  may  permit  lowercase  signal  names as an extension.\n",
            "       Implementations may also accept the names with the SIG prefix; no known\n",
            "       historical shell does so. The _\bt_\br_\ba_\bp and _\bk_\bi_\bl_\bl utilities in this volume of\n",
            "       POSIX.1‐2008 are now consistent in their omission of the SIG prefix for\n",
            "       signal  names.  Some  _\bk_\bi_\bl_\bl implementations do not allow the prefix, and\n",
            "       _\bk_\bi_\bl_\bl −\b−l\bl lists the signals without prefixes.\n",
            "\n",
            "       Trapping SIGKILL or SIGSTOP is syntactically accepted by some  histori‐\n",
            "       cal  implementations, but it has no effect. Portable POSIX applications\n",
            "       cannot attempt to trap these signals.\n",
            "\n",
            "       The output format is not historical practice. Since the output of  his‐\n",
            "       torical  _\bt_\br_\ba_\bp  commands  is not portable (because numeric signal values\n",
            "       are not portable) and had to change to become so,  an  opportunity  was\n",
            "       taken  to  format  the output in a way that a shell script could use to\n",
            "       save and then later reuse a trap if it wanted.\n",
            "\n",
            "       The KornShell uses an E\bER\bRR\bR trap that is triggered whenever _\bs_\be_\bt −\b−e\be  would\n",
            "       cause an exit. This is allowable as an extension, but was not mandated,\n",
            "       as other shells have not used it.\n",
            "\n",
            "       The text about the environment for the EXIT trap invalidates the behav‐\n",
            "       ior  of some historical versions of interactive shells which, for exam‐\n",
            "       ple, close the standard input before executing a trap on 0.  For  exam‐\n",
            "       ple,  in  some historical interactive shell sessions the following trap\n",
            "       on 0 would always print \"\b\"−\b−−\b−\"\b\":\n",
            "\n",
            "           t\btr\bra\bap\bp '\b'r\bre\bea\bad\bd f\bfo\boo\bo;\b; e\bec\bch\bho\bo \"\b\"−\b−$\b$f\bfo\boo\bo−\b−\"\b\"'\b' 0\b0\n",
            "\n",
            "       The command:\n",
            "\n",
            "           t\btr\bra\bap\bp '\b'e\bev\bva\bal\bl \"\b\" $\b$c\bcm\bmd\bd\"\b\"'\b' 0\b0\n",
            "\n",
            "       causes the contents of the shell variable _\bc_\bm_\bd to be executed as a  com‐\n",
            "       mand when the shell exits. Using:\n",
            "\n",
            "           t\btr\bra\bap\bp '\b'$\b$c\bcm\bmd\bd'\b' 0\b0\n",
            "\n",
            "       does  not work correctly if _\bc_\bm_\bd contains any special characters such as\n",
            "       quoting or redirections. Using:\n",
            "\n",
            "           t\btr\bra\bap\bp \"\b\" $\b$c\bcm\bmd\bd\"\b\" 0\b0\n",
            "\n",
            "       also works (the leading <space>  character  protects  against  unlikely\n",
            "       cases  where  _\bc_\bm_\bd  is  a  decimal  integer  or begins with '\b'−\b−'\b'), but it\n",
            "       expands the _\bc_\bm_\bd variable when the _\bt_\br_\ba_\bp command is  executed,  not  when\n",
            "       the exit action is executed.\n",
            "\n",
            "F\bFU\bUT\bTU\bUR\bRE\bE D\bDI\bIR\bRE\bEC\bCT\bTI\bIO\bON\bNS\bS\n",
            "       None.\n",
            "\n",
            "S\bSE\bEE\bE A\bAL\bLS\bSO\bO\n",
            "       _\bS_\be_\bc_\bt_\bi_\bo_\bn _\b2_\b._\b1_\b4, _\bS_\bp_\be_\bc_\bi_\ba_\bl _\bB_\bu_\bi_\bl_\bt_\b-_\bI_\bn _\bU_\bt_\bi_\bl_\bi_\bt_\bi_\be_\bs\n",
            "\n",
            "       The Base Definitions volume of POSIX.1‐2008, _\bS_\be_\bc_\bt_\bi_\bo_\bn _\b1_\b2_\b._\b2, _\bU_\bt_\bi_\bl_\bi_\bt_\by _\bS_\by_\bn_\b‐\n",
            "       _\bt_\ba_\bx _\bG_\bu_\bi_\bd_\be_\bl_\bi_\bn_\be_\bs, <\b<s\bsi\big\bgn\bna\bal\bl.\b.h\bh>\b>\n",
            "\n",
            "C\bCO\bOP\bPY\bYR\bRI\bIG\bGH\bHT\bT\n",
            "       Portions of this text are reprinted and reproduced in  electronic  form\n",
            "       from IEEE Std 1003.1, 2013 Edition, Standard for Information Technology\n",
            "       -- Portable Operating System Interface (POSIX),  The  Open  Group  Base\n",
            "       Specifications Issue 7, Copyright (C) 2013 by the Institute of Electri‐\n",
            "       cal and Electronics Engineers,  Inc  and  The  Open  Group.   (This  is\n",
            "       POSIX.1-2008  with  the  2013  Technical Corrigendum 1 applied.) In the\n",
            "       event of any discrepancy between this version and the original IEEE and\n",
            "       The  Open Group Standard, the original IEEE and The Open Group Standard\n",
            "       is the referee document. The original Standard can be  obtained  online\n",
            "       at http://www.unix.org/online.html .\n",
            "\n",
            "       Any  typographical  or  formatting  errors that appear in this page are\n",
            "       most likely to have been introduced during the conversion of the source\n",
            "       files  to  man page format. To report such errors, see https://www.ker‐\n",
            "       nel.org/doc/man-pages/reporting_bugs.html .\n",
            "\n",
            "IEEE/The Open Group                  2013                         TRAP(1POSIX)\n"
          ]
        }
      ]
    },
    {
      "cell_type": "code",
      "source": [
        "! trap -l"
      ],
      "metadata": {
        "colab": {
          "base_uri": "https://localhost:8080/"
        },
        "id": "wHCA-1c2Rzu7",
        "outputId": "c399b695-76bd-4665-bbb3-d55902922800"
      },
      "execution_count": null,
      "outputs": [
        {
          "output_type": "stream",
          "name": "stdout",
          "text": [
            " 1) SIGHUP\t 2) SIGINT\t 3) SIGQUIT\t 4) SIGILL\t 5) SIGTRAP\n",
            " 6) SIGABRT\t 7) SIGBUS\t 8) SIGFPE\t 9) SIGKILL\t10) SIGUSR1\n",
            "11) SIGSEGV\t12) SIGUSR2\t13) SIGPIPE\t14) SIGALRM\t15) SIGTERM\n",
            "16) SIGSTKFLT\t17) SIGCHLD\t18) SIGCONT\t19) SIGSTOP\t20) SIGTSTP\n",
            "21) SIGTTIN\t22) SIGTTOU\t23) SIGURG\t24) SIGXCPU\t25) SIGXFSZ\n",
            "26) SIGVTALRM\t27) SIGPROF\t28) SIGWINCH\t29) SIGIO\t30) SIGPWR\n",
            "31) SIGSYS\t34) SIGRTMIN\t35) SIGRTMIN+1\t36) SIGRTMIN+2\t37) SIGRTMIN+3\n",
            "38) SIGRTMIN+4\t39) SIGRTMIN+5\t40) SIGRTMIN+6\t41) SIGRTMIN+7\t42) SIGRTMIN+8\n",
            "43) SIGRTMIN+9\t44) SIGRTMIN+10\t45) SIGRTMIN+11\t46) SIGRTMIN+12\t47) SIGRTMIN+13\n",
            "48) SIGRTMIN+14\t49) SIGRTMIN+15\t50) SIGRTMAX-14\t51) SIGRTMAX-13\t52) SIGRTMAX-12\n",
            "53) SIGRTMAX-11\t54) SIGRTMAX-10\t55) SIGRTMAX-9\t56) SIGRTMAX-8\t57) SIGRTMAX-7\n",
            "58) SIGRTMAX-6\t59) SIGRTMAX-5\t60) SIGRTMAX-4\t61) SIGRTMAX-3\t62) SIGRTMAX-2\n",
            "63) SIGRTMAX-1\t64) SIGRTMAX\t\n"
          ]
        }
      ]
    },
    {
      "cell_type": "markdown",
      "source": [
        "# Exercise: Shell Scripts and Signals\n",
        "\n",
        "Let us manage signals by creating shell script functions:\n",
        "* Try to understand and learn the syntax of the `trap` command.\n",
        "* Create a bash script titled `my_script.sh` with the following content\n",
        "* After completing the `TODOs`, run the commands provided."
      ],
      "metadata": {
        "id": "ERqhqHZfTMAs"
      }
    },
    {
      "cell_type": "markdown",
      "source": [
        "\n",
        "```\n",
        "sigquit()\n",
        "{\n",
        "   echo \"quitting signal received\"\n",
        "}\n",
        "\n",
        "sigint()\n",
        "{\n",
        "   echo \"script ending\"\n",
        "   exit 0\n",
        "}\n",
        "\n",
        "# TODO 1: replace ... with the right signal\n",
        "trap 'sigquit' ...\n",
        "\n",
        "# TODO 2: replace ... with the right signal\n",
        "trap 'sigint'  ...\n",
        "\n",
        "echo \"Script with process ID $$ just started!\"\n",
        "\n",
        "while true \n",
        "do\n",
        "  sleep 100\n",
        "done\n",
        "```"
      ],
      "metadata": {
        "id": "ftMZYF3JSRNo"
      }
    },
    {
      "cell_type": "markdown",
      "source": [
        "The commands needed to run the following script have the following syntax:\n",
        "\n",
        "**TODO 3:** replace AAA and BBB with the right parameters.\n",
        "```\n",
        "$ kill AAA  BBB\n",
        "```"
      ],
      "metadata": {
        "id": "TSwGDOaiVbuo"
      }
    },
    {
      "cell_type": "markdown",
      "source": [
        "After this, let's try to run our script. Let's add the right permissions to it and run it afterwards."
      ],
      "metadata": {
        "id": "l7E2nCoeWtrR"
      }
    },
    {
      "cell_type": "code",
      "source": [
        "! chmod u+x my_script.sh && ./my_script.sh"
      ],
      "metadata": {
        "colab": {
          "base_uri": "https://localhost:8080/"
        },
        "id": "3OQnM69uWndC",
        "outputId": "58b8f76d-180e-4f2e-f14e-87e566222d0c"
      },
      "execution_count": null,
      "outputs": [
        {
          "output_type": "stream",
          "name": "stdout",
          "text": [
            "chmod: cannot access 'my_script.sh': No such file or directory\n"
          ]
        }
      ]
    },
    {
      "cell_type": "markdown",
      "source": [
        "Now, open a new terminal window and run the kill command with the right parameters to see the signals in action."
      ],
      "metadata": {
        "id": "g5QU3ickZGSK"
      }
    }
  ]
}