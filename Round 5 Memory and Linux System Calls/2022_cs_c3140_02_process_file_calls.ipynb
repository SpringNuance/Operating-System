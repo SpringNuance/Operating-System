{
  "nbformat": 4,
  "nbformat_minor": 0,
  "metadata": {
    "colab": {
      "provenance": []
    },
    "kernelspec": {
      "name": "python3",
      "display_name": "Python 3"
    },
    "language_info": {
      "name": "python"
    }
  },
  "cells": [
    {
      "cell_type": "markdown",
      "source": [
        "![image.png](data:image/png;base64,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)"
      ],
      "metadata": {
        "id": "7-oI_-XX3Ll7"
      }
    },
    {
      "cell_type": "code",
      "source": [
        "! echo $PATH"
      ],
      "metadata": {
        "colab": {
          "base_uri": "https://localhost:8080/"
        },
        "id": "jTG9bdnzD-uz",
        "outputId": "27604556-e84b-40f3-84e6-6affaf572bd2"
      },
      "execution_count": null,
      "outputs": [
        {
          "output_type": "stream",
          "name": "stdout",
          "text": [
            "/opt/bin:/usr/local/nvidia/bin:/usr/local/cuda/bin:/usr/local/sbin:/usr/local/bin:/usr/sbin:/usr/bin:/sbin:/bin:/tools/node/bin:/tools/google-cloud-sdk/bin\n"
          ]
        }
      ]
    },
    {
      "cell_type": "code",
      "source": [
        "! which ls"
      ],
      "metadata": {
        "id": "c8fbSYrqLp81",
        "outputId": "071deddf-9cca-4100-829a-b48750919c62",
        "colab": {
          "base_uri": "https://localhost:8080/"
        }
      },
      "execution_count": null,
      "outputs": [
        {
          "output_type": "stream",
          "name": "stdout",
          "text": [
            "/bin/ls\n"
          ]
        }
      ]
    },
    {
      "cell_type": "markdown",
      "source": [
        "#Assignment 5: System Calls\n",
        "\n",
        "**Note**: The following exercises can be solved in a number of ways:\n",
        "* Using this Google Colab notebook (please save your own copy and work on that, instructions below)\n",
        "* Compiling the C source code on your own machine\n",
        "* **If you are familiar with Linux:**\n",
        "* Over an SSH connection to [Aalto shell servers](https://www.aalto.fi/en/services/linux-shell-servers-at-aalto)\n",
        "\n",
        "Please feel free to use the option that works best for you. Please enter the results in the [A+ platform](https://plus.cs.aalto.fi/accounts/login/?next=/os/2022/). For any questions please refer to the [Zulip chat of the OS course](https://operatingsystems.zulip.aalto.fi/).\n",
        "\n",
        "**When compiling the code below, before making any of your edits, for gcc versions less than 9.5.0, you may see compilation warnings which you can safely ignore. It is not safe to ignore any other compilation warnings and compilation errors introduced by code added or edited by you.**\n",
        "\n",
        "The UNIX system provides several system calls to create and end program, to send and receive software interrupts, to allocate memory, and to do other useful jobs for a process. "
      ],
      "metadata": {
        "id": "WkSK9F67nfet"
      }
    },
    {
      "cell_type": "markdown",
      "metadata": {
        "id": "T1aFAcEkWcy-"
      },
      "source": [
        "## Process System Calls"
      ]
    },
    {
      "cell_type": "markdown",
      "source": [
        "The following system calls are provided for creating a process, ending a process, and  waiting for a process to complete. These are `fork()`, the `exec` family, `wait()`, and `exit()`.\n",
        " \n",
        "Write a simple command interpreter that executes commands typed in by the user.  The commands are expected to accept parameters. For example, both `ls` and `ls -l`.\n",
        "\n",
        "In the template below, replace each `TODO` line with the correct line of code. For solving this assignment, use the following system calls:\n",
        "* [fork](https://linux.die.net/man/2/fork)\n",
        "* [exec*](https://linux.die.net/man/3/exec)\n",
        "* [wait](https://linux.die.net/man/2/wait)\n",
        "\n",
        "\n",
        "**Note**: For the purpose of this exercise you can safely ignore the warnings about `gets()`."
      ],
      "metadata": {
        "id": "v86jtlW5pEax"
      }
    },
    {
      "cell_type": "code",
      "source": [
        "! man wait(3)"
      ],
      "metadata": {
        "colab": {
          "base_uri": "https://localhost:8080/"
        },
        "id": "CAdOaqhzG0hg",
        "outputId": "34140733-9550-424e-fbfe-77242b4f88f2"
      },
      "execution_count": null,
      "outputs": [
        {
          "output_type": "stream",
          "name": "stdout",
          "text": [
            "/bin/bash: -c: line 0: syntax error near unexpected token `('\n",
            "/bin/bash: -c: line 0: ` man wait(3)'\n"
          ]
        }
      ]
    },
    {
      "cell_type": "code",
      "metadata": {
        "id": "tVwPnqh0XXah",
        "outputId": "8d2e2cbc-959f-4ec3-c991-176bab11d7d2",
        "colab": {
          "base_uri": "https://localhost:8080/"
        }
      },
      "source": [
        "%%writefile myshell.c\n",
        "\n",
        "#include <stdio.h>\n",
        "#include <stdlib.h>\n",
        "#include <unistd.h>\n",
        "#include <sys/wait.h>\n",
        "\n",
        "int main()\n",
        "{\n",
        "  int process;\n",
        "\n",
        "  int BUFFER_SIZE = 256;\n",
        "  char line[BUFFER_SIZE];\n",
        "  char* args[BUFFER_SIZE];\n",
        "\n",
        "  for (;;)\n",
        "  {\n",
        "    fprintf(stderr, \"cmd: \");\n",
        "    \n",
        "    /* blank line input */\n",
        "    if ( gets (line) == (char *) NULL)\n",
        "        exit (0);\n",
        "\n",
        "    /* create a new process */\n",
        "    process = fork ();\n",
        "    \n",
        "    if (process > 0)\n",
        "    {\n",
        "      /* parent */\n",
        "      //TODO-1: the parent is waiting on the child thread\n",
        "      long todo_1 = ;\n",
        "      wait ((int *) todo_1);\n",
        "    }\n",
        "    else if (process == 0)\n",
        "    {\n",
        "      /* child - execute program */\n",
        "      printf(\"executing %s \\n\", line);\n",
        "\n",
        "      int args_i = 0;\n",
        "      args[0] = line;\n",
        "      args_i++;\n",
        "      int after = 0;\n",
        "      \n",
        "      // TODO-2: The system call requires a list of parameters.\n",
        "      // The string that has been input needs to be parsed into tokens.\n",
        "      // It is sufficient to store the pointers to start of the tokens.\n",
        "      // Determine the character required to replace the space character from\n",
        "      // the read line. Assume that there is a single white space separating\n",
        "      // the args.\n",
        "\n",
        "      char todo_2 = ;\n",
        "      while(after < BUFFER_SIZE && *(line + after) != '\\0')\n",
        "      {\n",
        "        printf(\"%c\\n\", *(line + after));\n",
        "        if(*(line + after) == ' ')\n",
        "        {\n",
        "          *(line + after) = todo_2;\n",
        "          args[args_i] = line + after + 1;\n",
        "          args_i++;\n",
        "        }\n",
        "        after++;\n",
        "      }\n",
        "\n",
        "      //TODO-3: Fill the args array according to the man page of the system call\n",
        "      long todo_3 = ;\n",
        "      args[args_i] = (void *) todo_3;\n",
        "\n",
        "      //TODO-4: Execvp takes two paramters. Considering the array in args,\n",
        "      // set the parameters accordingly.\n",
        "      char* todo_4_1 = ;\n",
        "      char** todo_4_2 = ;\n",
        "      execvp(todo_4_1, todo_4_2);\n",
        "\n",
        "      /* some problem if the execution returns */                              \n",
        "      fprintf (stderr, \"Can't execute %s\\n\", line);\n",
        "      exit (1);\n",
        "    }\n",
        "    else if ( process == -1)\n",
        "    {\n",
        "      /* can't create a new process */\n",
        "      fprintf (stderr, \"Can't fork!\\n\");\n",
        "      exit (2);\n",
        "    }\n",
        "  }\n",
        "}"
      ],
      "execution_count": null,
      "outputs": [
        {
          "output_type": "stream",
          "name": "stdout",
          "text": [
            "Overwriting myshell.c\n"
          ]
        }
      ]
    },
    {
      "cell_type": "code",
      "metadata": {
        "id": "kdGyBT0Gj35L"
      },
      "source": [
        "# Compiling the easoshell\n",
        "!gcc -Wall -o myshell myshell.c"
      ],
      "execution_count": null,
      "outputs": []
    },
    {
      "cell_type": "code",
      "metadata": {
        "id": "cWY-W0loj80K"
      },
      "source": [
        "!./myshell"
      ],
      "execution_count": null,
      "outputs": []
    },
    {
      "cell_type": "markdown",
      "source": [
        "## File System Calls\n",
        "\n"
      ],
      "metadata": {
        "id": "vvQZzi3MCH0a"
      }
    },
    {
      "cell_type": "markdown",
      "source": [
        "The UNIX system file system treats an ordinary file as a sequence of bytes.  No internal structure is imposed on a file by the operating system.  Generally, a file is read or written sequentially -- that is, from beginning to the end of the file.\n",
        "\n",
        "Write a program that [opens](https://linux.die.net/man/2/open) a file called datafile.dat (assume that it is not already existing, and throw error otherwise) for writing, writes the contents of `message` to the file, [rewinds](https://linux.die.net/man/2/lseek) the file pointer to the beginning of the file, [reads](https://linux.die.net/man/2/read) the message again and finally [closes](https://linux.die.net/man/2/close) the file.\n",
        "\n",
        "In the template below, replace each `TODO` line with the correct line of code."
      ],
      "metadata": {
        "id": "-VWlNlS0NWH9"
      }
    },
    {
      "cell_type": "code",
      "source": [
        "%%writefile filesystem.c\n",
        "\n",
        "#include <stdio.h>\n",
        "#include <stdlib.h>\n",
        "#include <unistd.h>\n",
        "#include <fcntl.h>         /* defines options flags */\n",
        "#include <sys/types.h>     /* defines types used by sys/stat.h */\n",
        "#include <sys/stat.h>      /* defines S_IREAD & S_IWRITE  */\n",
        "\n",
        "static char message[] = \"Hello, world\";\n",
        "\n",
        "int main()\n",
        "{\n",
        "  int fd;\n",
        "  char buffer[80];\n",
        "  int nrr;\n",
        "\n",
        "  /* open datafile.dat for read/write access   (O_RDWR)\n",
        "      create datafile.dat if it does not exist  (O_CREAT)\n",
        "      return error if datafile already exists   (O_EXCL)\n",
        "      permit read/write access to file  (S_IWRITE | S_IREAD)\n",
        "  */\n",
        " \n",
        "  //open datafile.dat for writing and update the file descriptor fd\n",
        "  //TODO-1 the necessary flags are\n",
        "  int todo_1 = ;\n",
        "  fd = open(\"datafile.dat\", todo_1, S_IREAD | S_IWRITE);\n",
        "\n",
        "  if (fd != -1)\n",
        "  {\n",
        "      printf(\"datafile.dat opened for read/write access\\n\");\n",
        "      \n",
        "      //Write the contents\n",
        "      //TODO-2: What is the value needed for todo_2?\n",
        "      int todo_2 = ;\n",
        "      write(fd, message, todo_2);\n",
        "      \n",
        "      //Rewind the file pointer\n",
        "      //TODO-3: What is the value needed for todo_3\n",
        "      int todo_3 = ;\n",
        "      lseek(fd, todo_3, 0);\n",
        "\n",
        "      //TODO-4: Read the file contents\n",
        "      int todo_4 =  ;\n",
        "      nrr = read(fd, buffer, todo_4);\n",
        "\n",
        "      if (nrr == sizeof(message))\n",
        "        printf(\"\\\"%s\\\" was written to datafile.dat\\n\", buffer);\n",
        "      else\n",
        "        printf(\"*** error reading datafile.dat ***\\n\");\n",
        "   \n",
        "      close (fd);\n",
        "  }\n",
        "  else\n",
        "      printf(\"*** datafile.dat already exists ***\\n\");\n",
        " \n",
        "  exit (0);\n",
        "}\n"
      ],
      "metadata": {
        "id": "KV4vFJrxOvS5"
      },
      "execution_count": null,
      "outputs": []
    },
    {
      "cell_type": "code",
      "source": [
        "# Compiling the filesystem\n",
        "!gcc -Wall -o filesystem filesystem.c"
      ],
      "metadata": {
        "id": "x0Bj60nDO4gn"
      },
      "execution_count": null,
      "outputs": []
    },
    {
      "cell_type": "code",
      "source": [
        "!./filesystem"
      ],
      "metadata": {
        "id": "SfIs9hTqReCG"
      },
      "execution_count": null,
      "outputs": []
    }
  ]
}